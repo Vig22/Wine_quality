{
 "cells": [
  {
   "cell_type": "code",
   "execution_count": 1,
   "metadata": {},
   "outputs": [],
   "source": [
    "import pandas as pd\n",
    "import numpy as np\n",
    "import matplotlib.pyplot as plt\n",
    "import seaborn as sns\n",
    "from sklearn.model_selection import train_test_split\n",
    "from sklearn.preprocessing import scale\n",
    "from sklearn.decomposition import PCA\n",
    "from sklearn.linear_model import LogisticRegression\n",
    "from sklearn.metrics import classification_report, confusion_matrix"
   ]
  },
  {
   "cell_type": "code",
   "execution_count": 2,
   "metadata": {},
   "outputs": [
    {
     "data": {
      "text/html": [
       "<div>\n",
       "<style scoped>\n",
       "    .dataframe tbody tr th:only-of-type {\n",
       "        vertical-align: middle;\n",
       "    }\n",
       "\n",
       "    .dataframe tbody tr th {\n",
       "        vertical-align: top;\n",
       "    }\n",
       "\n",
       "    .dataframe thead th {\n",
       "        text-align: right;\n",
       "    }\n",
       "</style>\n",
       "<table border=\"1\" class=\"dataframe\">\n",
       "  <thead>\n",
       "    <tr style=\"text-align: right;\">\n",
       "      <th></th>\n",
       "      <th>fixed acidity</th>\n",
       "      <th>volatile acidity</th>\n",
       "      <th>citric acid</th>\n",
       "      <th>residual sugar</th>\n",
       "      <th>chlorides</th>\n",
       "      <th>free sulfur dioxide</th>\n",
       "      <th>total sulfur dioxide</th>\n",
       "      <th>density</th>\n",
       "      <th>pH</th>\n",
       "      <th>sulphates</th>\n",
       "      <th>alcohol</th>\n",
       "      <th>quality</th>\n",
       "    </tr>\n",
       "  </thead>\n",
       "  <tbody>\n",
       "    <tr>\n",
       "      <th>0</th>\n",
       "      <td>7.4</td>\n",
       "      <td>0.70</td>\n",
       "      <td>0.00</td>\n",
       "      <td>1.9</td>\n",
       "      <td>0.076</td>\n",
       "      <td>11.0</td>\n",
       "      <td>34.0</td>\n",
       "      <td>0.9978</td>\n",
       "      <td>3.51</td>\n",
       "      <td>0.56</td>\n",
       "      <td>9.4</td>\n",
       "      <td>5</td>\n",
       "    </tr>\n",
       "    <tr>\n",
       "      <th>1</th>\n",
       "      <td>7.8</td>\n",
       "      <td>0.88</td>\n",
       "      <td>0.00</td>\n",
       "      <td>2.6</td>\n",
       "      <td>0.098</td>\n",
       "      <td>25.0</td>\n",
       "      <td>67.0</td>\n",
       "      <td>0.9968</td>\n",
       "      <td>3.20</td>\n",
       "      <td>0.68</td>\n",
       "      <td>9.8</td>\n",
       "      <td>5</td>\n",
       "    </tr>\n",
       "    <tr>\n",
       "      <th>2</th>\n",
       "      <td>7.8</td>\n",
       "      <td>0.76</td>\n",
       "      <td>0.04</td>\n",
       "      <td>2.3</td>\n",
       "      <td>0.092</td>\n",
       "      <td>15.0</td>\n",
       "      <td>54.0</td>\n",
       "      <td>0.9970</td>\n",
       "      <td>3.26</td>\n",
       "      <td>0.65</td>\n",
       "      <td>9.8</td>\n",
       "      <td>5</td>\n",
       "    </tr>\n",
       "    <tr>\n",
       "      <th>3</th>\n",
       "      <td>11.2</td>\n",
       "      <td>0.28</td>\n",
       "      <td>0.56</td>\n",
       "      <td>1.9</td>\n",
       "      <td>0.075</td>\n",
       "      <td>17.0</td>\n",
       "      <td>60.0</td>\n",
       "      <td>0.9980</td>\n",
       "      <td>3.16</td>\n",
       "      <td>0.58</td>\n",
       "      <td>9.8</td>\n",
       "      <td>6</td>\n",
       "    </tr>\n",
       "    <tr>\n",
       "      <th>4</th>\n",
       "      <td>7.4</td>\n",
       "      <td>0.70</td>\n",
       "      <td>0.00</td>\n",
       "      <td>1.9</td>\n",
       "      <td>0.076</td>\n",
       "      <td>11.0</td>\n",
       "      <td>34.0</td>\n",
       "      <td>0.9978</td>\n",
       "      <td>3.51</td>\n",
       "      <td>0.56</td>\n",
       "      <td>9.4</td>\n",
       "      <td>5</td>\n",
       "    </tr>\n",
       "  </tbody>\n",
       "</table>\n",
       "</div>"
      ],
      "text/plain": [
       "   fixed acidity  volatile acidity  citric acid  residual sugar  chlorides  \\\n",
       "0            7.4              0.70         0.00             1.9      0.076   \n",
       "1            7.8              0.88         0.00             2.6      0.098   \n",
       "2            7.8              0.76         0.04             2.3      0.092   \n",
       "3           11.2              0.28         0.56             1.9      0.075   \n",
       "4            7.4              0.70         0.00             1.9      0.076   \n",
       "\n",
       "   free sulfur dioxide  total sulfur dioxide  density    pH  sulphates  \\\n",
       "0                 11.0                  34.0   0.9978  3.51       0.56   \n",
       "1                 25.0                  67.0   0.9968  3.20       0.68   \n",
       "2                 15.0                  54.0   0.9970  3.26       0.65   \n",
       "3                 17.0                  60.0   0.9980  3.16       0.58   \n",
       "4                 11.0                  34.0   0.9978  3.51       0.56   \n",
       "\n",
       "   alcohol  quality  \n",
       "0      9.4        5  \n",
       "1      9.8        5  \n",
       "2      9.8        5  \n",
       "3      9.8        6  \n",
       "4      9.4        5  "
      ]
     },
     "execution_count": 2,
     "metadata": {},
     "output_type": "execute_result"
    }
   ],
   "source": [
    "df = pd.read_csv(\"winequality.csv\") # Importing Dataset\n",
    "df.head()"
   ]
  },
  {
   "cell_type": "code",
   "execution_count": 3,
   "metadata": {},
   "outputs": [
    {
     "data": {
      "text/plain": [
       "(6497, 12)"
      ]
     },
     "execution_count": 3,
     "metadata": {},
     "output_type": "execute_result"
    }
   ],
   "source": [
    "df.shape"
   ]
  },
  {
   "cell_type": "code",
   "execution_count": 4,
   "metadata": {},
   "outputs": [
    {
     "name": "stdout",
     "output_type": "stream",
     "text": [
      "<class 'pandas.core.frame.DataFrame'>\n",
      "RangeIndex: 6497 entries, 0 to 6496\n",
      "Data columns (total 12 columns):\n",
      "fixed acidity           6497 non-null float64\n",
      "volatile acidity        6497 non-null float64\n",
      "citric acid             6497 non-null float64\n",
      "residual sugar          6497 non-null float64\n",
      "chlorides               6497 non-null float64\n",
      "free sulfur dioxide     6497 non-null float64\n",
      "total sulfur dioxide    6497 non-null float64\n",
      "density                 6497 non-null float64\n",
      "pH                      6497 non-null float64\n",
      "sulphates               6497 non-null float64\n",
      "alcohol                 6497 non-null float64\n",
      "quality                 6497 non-null int64\n",
      "dtypes: float64(11), int64(1)\n",
      "memory usage: 609.2 KB\n"
     ]
    }
   ],
   "source": [
    "df.info()"
   ]
  },
  {
   "cell_type": "code",
   "execution_count": 5,
   "metadata": {},
   "outputs": [
    {
     "data": {
      "text/plain": [
       "fixed acidity           0\n",
       "volatile acidity        0\n",
       "citric acid             0\n",
       "residual sugar          0\n",
       "chlorides               0\n",
       "free sulfur dioxide     0\n",
       "total sulfur dioxide    0\n",
       "density                 0\n",
       "pH                      0\n",
       "sulphates               0\n",
       "alcohol                 0\n",
       "quality                 0\n",
       "dtype: int64"
      ]
     },
     "execution_count": 5,
     "metadata": {},
     "output_type": "execute_result"
    }
   ],
   "source": [
    "df.isnull().sum()"
   ]
  },
  {
   "cell_type": "markdown",
   "metadata": {},
   "source": [
    "1. There is no missing value.\n",
    "2. Data in Numeric.\n"
   ]
  },
  {
   "cell_type": "markdown",
   "metadata": {},
   "source": [
    "# EDA "
   ]
  },
  {
   "cell_type": "markdown",
   "metadata": {},
   "source": [
    "## Descriptive Stats / Summary of Data"
   ]
  },
  {
   "cell_type": "code",
   "execution_count": 6,
   "metadata": {},
   "outputs": [
    {
     "data": {
      "text/html": [
       "<div>\n",
       "<style scoped>\n",
       "    .dataframe tbody tr th:only-of-type {\n",
       "        vertical-align: middle;\n",
       "    }\n",
       "\n",
       "    .dataframe tbody tr th {\n",
       "        vertical-align: top;\n",
       "    }\n",
       "\n",
       "    .dataframe thead th {\n",
       "        text-align: right;\n",
       "    }\n",
       "</style>\n",
       "<table border=\"1\" class=\"dataframe\">\n",
       "  <thead>\n",
       "    <tr style=\"text-align: right;\">\n",
       "      <th></th>\n",
       "      <th>fixed acidity</th>\n",
       "      <th>volatile acidity</th>\n",
       "      <th>citric acid</th>\n",
       "      <th>residual sugar</th>\n",
       "      <th>chlorides</th>\n",
       "      <th>free sulfur dioxide</th>\n",
       "      <th>total sulfur dioxide</th>\n",
       "      <th>density</th>\n",
       "      <th>pH</th>\n",
       "      <th>sulphates</th>\n",
       "      <th>alcohol</th>\n",
       "      <th>quality</th>\n",
       "    </tr>\n",
       "  </thead>\n",
       "  <tbody>\n",
       "    <tr>\n",
       "      <th>count</th>\n",
       "      <td>6497.000000</td>\n",
       "      <td>6497.000000</td>\n",
       "      <td>6497.000000</td>\n",
       "      <td>6497.000000</td>\n",
       "      <td>6497.000000</td>\n",
       "      <td>6497.000000</td>\n",
       "      <td>6497.000000</td>\n",
       "      <td>6497.000000</td>\n",
       "      <td>6497.000000</td>\n",
       "      <td>6497.000000</td>\n",
       "      <td>6497.000000</td>\n",
       "      <td>6497.000000</td>\n",
       "    </tr>\n",
       "    <tr>\n",
       "      <th>mean</th>\n",
       "      <td>7.215307</td>\n",
       "      <td>0.339666</td>\n",
       "      <td>0.318633</td>\n",
       "      <td>5.443235</td>\n",
       "      <td>0.056034</td>\n",
       "      <td>30.525319</td>\n",
       "      <td>115.744574</td>\n",
       "      <td>0.994697</td>\n",
       "      <td>3.218501</td>\n",
       "      <td>0.531268</td>\n",
       "      <td>10.491801</td>\n",
       "      <td>5.818378</td>\n",
       "    </tr>\n",
       "    <tr>\n",
       "      <th>std</th>\n",
       "      <td>1.296434</td>\n",
       "      <td>0.164636</td>\n",
       "      <td>0.145318</td>\n",
       "      <td>4.757804</td>\n",
       "      <td>0.035034</td>\n",
       "      <td>17.749400</td>\n",
       "      <td>56.521855</td>\n",
       "      <td>0.002999</td>\n",
       "      <td>0.160787</td>\n",
       "      <td>0.148806</td>\n",
       "      <td>1.192712</td>\n",
       "      <td>0.873255</td>\n",
       "    </tr>\n",
       "    <tr>\n",
       "      <th>min</th>\n",
       "      <td>3.800000</td>\n",
       "      <td>0.080000</td>\n",
       "      <td>0.000000</td>\n",
       "      <td>0.600000</td>\n",
       "      <td>0.009000</td>\n",
       "      <td>1.000000</td>\n",
       "      <td>6.000000</td>\n",
       "      <td>0.987110</td>\n",
       "      <td>2.720000</td>\n",
       "      <td>0.220000</td>\n",
       "      <td>8.000000</td>\n",
       "      <td>3.000000</td>\n",
       "    </tr>\n",
       "    <tr>\n",
       "      <th>25%</th>\n",
       "      <td>6.400000</td>\n",
       "      <td>0.230000</td>\n",
       "      <td>0.250000</td>\n",
       "      <td>1.800000</td>\n",
       "      <td>0.038000</td>\n",
       "      <td>17.000000</td>\n",
       "      <td>77.000000</td>\n",
       "      <td>0.992340</td>\n",
       "      <td>3.110000</td>\n",
       "      <td>0.430000</td>\n",
       "      <td>9.500000</td>\n",
       "      <td>5.000000</td>\n",
       "    </tr>\n",
       "    <tr>\n",
       "      <th>50%</th>\n",
       "      <td>7.000000</td>\n",
       "      <td>0.290000</td>\n",
       "      <td>0.310000</td>\n",
       "      <td>3.000000</td>\n",
       "      <td>0.047000</td>\n",
       "      <td>29.000000</td>\n",
       "      <td>118.000000</td>\n",
       "      <td>0.994890</td>\n",
       "      <td>3.210000</td>\n",
       "      <td>0.510000</td>\n",
       "      <td>10.300000</td>\n",
       "      <td>6.000000</td>\n",
       "    </tr>\n",
       "    <tr>\n",
       "      <th>75%</th>\n",
       "      <td>7.700000</td>\n",
       "      <td>0.400000</td>\n",
       "      <td>0.390000</td>\n",
       "      <td>8.100000</td>\n",
       "      <td>0.065000</td>\n",
       "      <td>41.000000</td>\n",
       "      <td>156.000000</td>\n",
       "      <td>0.996990</td>\n",
       "      <td>3.320000</td>\n",
       "      <td>0.600000</td>\n",
       "      <td>11.300000</td>\n",
       "      <td>6.000000</td>\n",
       "    </tr>\n",
       "    <tr>\n",
       "      <th>max</th>\n",
       "      <td>15.900000</td>\n",
       "      <td>1.580000</td>\n",
       "      <td>1.660000</td>\n",
       "      <td>65.800000</td>\n",
       "      <td>0.611000</td>\n",
       "      <td>289.000000</td>\n",
       "      <td>440.000000</td>\n",
       "      <td>1.038980</td>\n",
       "      <td>4.010000</td>\n",
       "      <td>2.000000</td>\n",
       "      <td>14.900000</td>\n",
       "      <td>9.000000</td>\n",
       "    </tr>\n",
       "  </tbody>\n",
       "</table>\n",
       "</div>"
      ],
      "text/plain": [
       "       fixed acidity  volatile acidity  citric acid  residual sugar  \\\n",
       "count    6497.000000       6497.000000  6497.000000     6497.000000   \n",
       "mean        7.215307          0.339666     0.318633        5.443235   \n",
       "std         1.296434          0.164636     0.145318        4.757804   \n",
       "min         3.800000          0.080000     0.000000        0.600000   \n",
       "25%         6.400000          0.230000     0.250000        1.800000   \n",
       "50%         7.000000          0.290000     0.310000        3.000000   \n",
       "75%         7.700000          0.400000     0.390000        8.100000   \n",
       "max        15.900000          1.580000     1.660000       65.800000   \n",
       "\n",
       "         chlorides  free sulfur dioxide  total sulfur dioxide      density  \\\n",
       "count  6497.000000          6497.000000           6497.000000  6497.000000   \n",
       "mean      0.056034            30.525319            115.744574     0.994697   \n",
       "std       0.035034            17.749400             56.521855     0.002999   \n",
       "min       0.009000             1.000000              6.000000     0.987110   \n",
       "25%       0.038000            17.000000             77.000000     0.992340   \n",
       "50%       0.047000            29.000000            118.000000     0.994890   \n",
       "75%       0.065000            41.000000            156.000000     0.996990   \n",
       "max       0.611000           289.000000            440.000000     1.038980   \n",
       "\n",
       "                pH    sulphates      alcohol      quality  \n",
       "count  6497.000000  6497.000000  6497.000000  6497.000000  \n",
       "mean      3.218501     0.531268    10.491801     5.818378  \n",
       "std       0.160787     0.148806     1.192712     0.873255  \n",
       "min       2.720000     0.220000     8.000000     3.000000  \n",
       "25%       3.110000     0.430000     9.500000     5.000000  \n",
       "50%       3.210000     0.510000    10.300000     6.000000  \n",
       "75%       3.320000     0.600000    11.300000     6.000000  \n",
       "max       4.010000     2.000000    14.900000     9.000000  "
      ]
     },
     "execution_count": 6,
     "metadata": {},
     "output_type": "execute_result"
    }
   ],
   "source": [
    "df.describe()"
   ]
  },
  {
   "cell_type": "code",
   "execution_count": 7,
   "metadata": {},
   "outputs": [
    {
     "data": {
      "text/plain": [
       "array([5, 6, 7, 4, 8, 3, 9], dtype=int64)"
      ]
     },
     "execution_count": 7,
     "metadata": {},
     "output_type": "execute_result"
    }
   ],
   "source": [
    "df['quality'].unique()"
   ]
  },
  {
   "cell_type": "code",
   "execution_count": 8,
   "metadata": {},
   "outputs": [
    {
     "data": {
      "text/plain": [
       "6    2836\n",
       "5    2138\n",
       "7    1079\n",
       "4     216\n",
       "8     193\n",
       "3      30\n",
       "9       5\n",
       "Name: quality, dtype: int64"
      ]
     },
     "execution_count": 8,
     "metadata": {},
     "output_type": "execute_result"
    }
   ],
   "source": [
    "df['quality'].value_counts()"
   ]
  },
  {
   "cell_type": "code",
   "execution_count": 9,
   "metadata": {},
   "outputs": [
    {
     "data": {
      "text/plain": [
       "fixed acidity           1.723290\n",
       "volatile acidity        1.495097\n",
       "citric acid             0.471731\n",
       "residual sugar          1.435404\n",
       "chlorides               5.399828\n",
       "free sulfur dioxide     1.220066\n",
       "total sulfur dioxide   -0.001177\n",
       "density                 0.503602\n",
       "pH                      0.386839\n",
       "sulphates               1.797270\n",
       "alcohol                 0.565718\n",
       "quality                 0.189623\n",
       "dtype: float64"
      ]
     },
     "execution_count": 9,
     "metadata": {},
     "output_type": "execute_result"
    }
   ],
   "source": [
    "df.skew()"
   ]
  },
  {
   "cell_type": "code",
   "execution_count": 10,
   "metadata": {},
   "outputs": [],
   "source": [
    "# Dividing quality of wine\n",
    "bins = (2, 6.5, 9)\n",
    "group_names = ['Bad','Good']\n",
    "df['quality'] = pd.cut(df['quality'], bins= bins, labels= group_names)"
   ]
  },
  {
   "cell_type": "code",
   "execution_count": 11,
   "metadata": {},
   "outputs": [],
   "source": [
    "# Lable Encoding\n",
    "from sklearn.preprocessing import StandardScaler, LabelEncoder\n",
    "label_quality = LabelEncoder()"
   ]
  },
  {
   "cell_type": "code",
   "execution_count": 12,
   "metadata": {},
   "outputs": [
    {
     "data": {
      "text/plain": [
       "0    5220\n",
       "1    1277\n",
       "Name: quality, dtype: int64"
      ]
     },
     "execution_count": 12,
     "metadata": {},
     "output_type": "execute_result"
    }
   ],
   "source": [
    "df['quality'] = label_quality.fit_transform(df['quality'])\n",
    "df['quality'].value_counts()"
   ]
  },
  {
   "cell_type": "code",
   "execution_count": 13,
   "metadata": {},
   "outputs": [
    {
     "data": {
      "text/html": [
       "<div>\n",
       "<style scoped>\n",
       "    .dataframe tbody tr th:only-of-type {\n",
       "        vertical-align: middle;\n",
       "    }\n",
       "\n",
       "    .dataframe tbody tr th {\n",
       "        vertical-align: top;\n",
       "    }\n",
       "\n",
       "    .dataframe thead th {\n",
       "        text-align: right;\n",
       "    }\n",
       "</style>\n",
       "<table border=\"1\" class=\"dataframe\">\n",
       "  <thead>\n",
       "    <tr style=\"text-align: right;\">\n",
       "      <th></th>\n",
       "      <th>fixed acidity</th>\n",
       "      <th>volatile acidity</th>\n",
       "      <th>citric acid</th>\n",
       "      <th>residual sugar</th>\n",
       "      <th>chlorides</th>\n",
       "      <th>free sulfur dioxide</th>\n",
       "      <th>total sulfur dioxide</th>\n",
       "      <th>density</th>\n",
       "      <th>pH</th>\n",
       "      <th>sulphates</th>\n",
       "      <th>alcohol</th>\n",
       "      <th>quality</th>\n",
       "    </tr>\n",
       "  </thead>\n",
       "  <tbody>\n",
       "    <tr>\n",
       "      <th>0</th>\n",
       "      <td>7.4</td>\n",
       "      <td>0.70</td>\n",
       "      <td>0.00</td>\n",
       "      <td>1.9</td>\n",
       "      <td>0.076</td>\n",
       "      <td>11.0</td>\n",
       "      <td>34.0</td>\n",
       "      <td>0.9978</td>\n",
       "      <td>3.51</td>\n",
       "      <td>0.56</td>\n",
       "      <td>9.4</td>\n",
       "      <td>0</td>\n",
       "    </tr>\n",
       "    <tr>\n",
       "      <th>1</th>\n",
       "      <td>7.8</td>\n",
       "      <td>0.88</td>\n",
       "      <td>0.00</td>\n",
       "      <td>2.6</td>\n",
       "      <td>0.098</td>\n",
       "      <td>25.0</td>\n",
       "      <td>67.0</td>\n",
       "      <td>0.9968</td>\n",
       "      <td>3.20</td>\n",
       "      <td>0.68</td>\n",
       "      <td>9.8</td>\n",
       "      <td>0</td>\n",
       "    </tr>\n",
       "    <tr>\n",
       "      <th>2</th>\n",
       "      <td>7.8</td>\n",
       "      <td>0.76</td>\n",
       "      <td>0.04</td>\n",
       "      <td>2.3</td>\n",
       "      <td>0.092</td>\n",
       "      <td>15.0</td>\n",
       "      <td>54.0</td>\n",
       "      <td>0.9970</td>\n",
       "      <td>3.26</td>\n",
       "      <td>0.65</td>\n",
       "      <td>9.8</td>\n",
       "      <td>0</td>\n",
       "    </tr>\n",
       "    <tr>\n",
       "      <th>3</th>\n",
       "      <td>11.2</td>\n",
       "      <td>0.28</td>\n",
       "      <td>0.56</td>\n",
       "      <td>1.9</td>\n",
       "      <td>0.075</td>\n",
       "      <td>17.0</td>\n",
       "      <td>60.0</td>\n",
       "      <td>0.9980</td>\n",
       "      <td>3.16</td>\n",
       "      <td>0.58</td>\n",
       "      <td>9.8</td>\n",
       "      <td>0</td>\n",
       "    </tr>\n",
       "    <tr>\n",
       "      <th>4</th>\n",
       "      <td>7.4</td>\n",
       "      <td>0.70</td>\n",
       "      <td>0.00</td>\n",
       "      <td>1.9</td>\n",
       "      <td>0.076</td>\n",
       "      <td>11.0</td>\n",
       "      <td>34.0</td>\n",
       "      <td>0.9978</td>\n",
       "      <td>3.51</td>\n",
       "      <td>0.56</td>\n",
       "      <td>9.4</td>\n",
       "      <td>0</td>\n",
       "    </tr>\n",
       "  </tbody>\n",
       "</table>\n",
       "</div>"
      ],
      "text/plain": [
       "   fixed acidity  volatile acidity  citric acid  residual sugar  chlorides  \\\n",
       "0            7.4              0.70         0.00             1.9      0.076   \n",
       "1            7.8              0.88         0.00             2.6      0.098   \n",
       "2            7.8              0.76         0.04             2.3      0.092   \n",
       "3           11.2              0.28         0.56             1.9      0.075   \n",
       "4            7.4              0.70         0.00             1.9      0.076   \n",
       "\n",
       "   free sulfur dioxide  total sulfur dioxide  density    pH  sulphates  \\\n",
       "0                 11.0                  34.0   0.9978  3.51       0.56   \n",
       "1                 25.0                  67.0   0.9968  3.20       0.68   \n",
       "2                 15.0                  54.0   0.9970  3.26       0.65   \n",
       "3                 17.0                  60.0   0.9980  3.16       0.58   \n",
       "4                 11.0                  34.0   0.9978  3.51       0.56   \n",
       "\n",
       "   alcohol  quality  \n",
       "0      9.4        0  \n",
       "1      9.8        0  \n",
       "2      9.8        0  \n",
       "3      9.8        0  \n",
       "4      9.4        0  "
      ]
     },
     "execution_count": 13,
     "metadata": {},
     "output_type": "execute_result"
    }
   ],
   "source": [
    "df.head()"
   ]
  },
  {
   "cell_type": "markdown",
   "metadata": {},
   "source": [
    "## Data Visualization"
   ]
  },
  {
   "cell_type": "code",
   "execution_count": 14,
   "metadata": {},
   "outputs": [
    {
     "data": {
      "image/png": "[encoded data removed]",
      "text/plain": [
       "<Figure size 1440x1440 with 12 Axes>"
      ]
     },
     "metadata": {
      "needs_background": "light"
     },
     "output_type": "display_data"
    }
   ],
   "source": [
    "df.hist(bins=10, figsize=(20,20))\n",
    "plt.show()"
   ]
  },
  {
   "cell_type": "code",
   "execution_count": 15,
   "metadata": {},
   "outputs": [
    {
     "data": {
      "text/plain": [
       "<matplotlib.axes._subplots.AxesSubplot at 0x2ba35c8b160>"
      ]
     },
     "execution_count": 15,
     "metadata": {},
     "output_type": "execute_result"
    },
    {
     "data": {
      "image/png": "[encoded data removed]",
      "text/plain": [
       "<Figure size 432x288 with 1 Axes>"
      ]
     },
     "metadata": {
      "needs_background": "light"
     },
     "output_type": "display_data"
    }
   ],
   "source": [
    "sns.countplot(x='quality', data=df)"
   ]
  },
  {
   "cell_type": "code",
   "execution_count": 16,
   "metadata": {},
   "outputs": [
    {
     "data": {
      "text/plain": [
       "<matplotlib.axes._subplots.AxesSubplot at 0x2ba3539de80>"
      ]
     },
     "execution_count": 16,
     "metadata": {},
     "output_type": "execute_result"
    },
    {
     "data": {
      "image/png": "[encoded data removed]",
      "text/plain": [
       "<Figure size 432x288 with 1 Axes>"
      ]
     },
     "metadata": {
      "needs_background": "light"
     },
     "output_type": "display_data"
    }
   ],
   "source": [
    "sns.barplot(x='quality', y='fixed acidity', data=df)"
   ]
  },
  {
   "cell_type": "code",
   "execution_count": 17,
   "metadata": {},
   "outputs": [
    {
     "data": {
      "text/plain": [
       "<matplotlib.axes._subplots.AxesSubplot at 0x2ba353ee6d8>"
      ]
     },
     "execution_count": 17,
     "metadata": {},
     "output_type": "execute_result"
    },
    {
     "data": {
      "image/png": "[encoded data removed]",
      "text/plain": [
       "<Figure size 432x288 with 1 Axes>"
      ]
     },
     "metadata": {
      "needs_background": "light"
     },
     "output_type": "display_data"
    }
   ],
   "source": [
    "sns.barplot(x='quality', y='volatile acidity', data=df)"
   ]
  },
  {
   "cell_type": "markdown",
   "metadata": {},
   "source": [
    "## Correlation "
   ]
  },
  {
   "cell_type": "code",
   "execution_count": 18,
   "metadata": {},
   "outputs": [
    {
     "data": {
      "text/html": [
       "<div>\n",
       "<style scoped>\n",
       "    .dataframe tbody tr th:only-of-type {\n",
       "        vertical-align: middle;\n",
       "    }\n",
       "\n",
       "    .dataframe tbody tr th {\n",
       "        vertical-align: top;\n",
       "    }\n",
       "\n",
       "    .dataframe thead th {\n",
       "        text-align: right;\n",
       "    }\n",
       "</style>\n",
       "<table border=\"1\" class=\"dataframe\">\n",
       "  <thead>\n",
       "    <tr style=\"text-align: right;\">\n",
       "      <th></th>\n",
       "      <th>fixed acidity</th>\n",
       "      <th>volatile acidity</th>\n",
       "      <th>citric acid</th>\n",
       "      <th>residual sugar</th>\n",
       "      <th>chlorides</th>\n",
       "      <th>free sulfur dioxide</th>\n",
       "      <th>total sulfur dioxide</th>\n",
       "      <th>density</th>\n",
       "      <th>pH</th>\n",
       "      <th>sulphates</th>\n",
       "      <th>alcohol</th>\n",
       "      <th>quality</th>\n",
       "    </tr>\n",
       "  </thead>\n",
       "  <tbody>\n",
       "    <tr>\n",
       "      <th>fixed acidity</th>\n",
       "      <td>1.000000</td>\n",
       "      <td>0.219008</td>\n",
       "      <td>0.324436</td>\n",
       "      <td>-0.111981</td>\n",
       "      <td>0.298195</td>\n",
       "      <td>-0.282735</td>\n",
       "      <td>-0.329054</td>\n",
       "      <td>0.458910</td>\n",
       "      <td>-0.252700</td>\n",
       "      <td>0.299568</td>\n",
       "      <td>-0.095452</td>\n",
       "      <td>-0.049447</td>\n",
       "    </tr>\n",
       "    <tr>\n",
       "      <th>volatile acidity</th>\n",
       "      <td>0.219008</td>\n",
       "      <td>1.000000</td>\n",
       "      <td>-0.377981</td>\n",
       "      <td>-0.196011</td>\n",
       "      <td>0.377124</td>\n",
       "      <td>-0.352557</td>\n",
       "      <td>-0.414476</td>\n",
       "      <td>0.271296</td>\n",
       "      <td>0.261454</td>\n",
       "      <td>0.225984</td>\n",
       "      <td>-0.037640</td>\n",
       "      <td>-0.151714</td>\n",
       "    </tr>\n",
       "    <tr>\n",
       "      <th>citric acid</th>\n",
       "      <td>0.324436</td>\n",
       "      <td>-0.377981</td>\n",
       "      <td>1.000000</td>\n",
       "      <td>0.142451</td>\n",
       "      <td>0.038998</td>\n",
       "      <td>0.133126</td>\n",
       "      <td>0.195242</td>\n",
       "      <td>0.096154</td>\n",
       "      <td>-0.329808</td>\n",
       "      <td>0.056197</td>\n",
       "      <td>-0.010493</td>\n",
       "      <td>0.054444</td>\n",
       "    </tr>\n",
       "    <tr>\n",
       "      <th>residual sugar</th>\n",
       "      <td>-0.111981</td>\n",
       "      <td>-0.196011</td>\n",
       "      <td>0.142451</td>\n",
       "      <td>1.000000</td>\n",
       "      <td>-0.128940</td>\n",
       "      <td>0.402871</td>\n",
       "      <td>0.495482</td>\n",
       "      <td>0.552517</td>\n",
       "      <td>-0.267320</td>\n",
       "      <td>-0.185927</td>\n",
       "      <td>-0.359415</td>\n",
       "      <td>-0.063992</td>\n",
       "    </tr>\n",
       "    <tr>\n",
       "      <th>chlorides</th>\n",
       "      <td>0.298195</td>\n",
       "      <td>0.377124</td>\n",
       "      <td>0.038998</td>\n",
       "      <td>-0.128940</td>\n",
       "      <td>1.000000</td>\n",
       "      <td>-0.195045</td>\n",
       "      <td>-0.279630</td>\n",
       "      <td>0.362615</td>\n",
       "      <td>0.044708</td>\n",
       "      <td>0.395593</td>\n",
       "      <td>-0.256916</td>\n",
       "      <td>-0.161781</td>\n",
       "    </tr>\n",
       "    <tr>\n",
       "      <th>free sulfur dioxide</th>\n",
       "      <td>-0.282735</td>\n",
       "      <td>-0.352557</td>\n",
       "      <td>0.133126</td>\n",
       "      <td>0.402871</td>\n",
       "      <td>-0.195045</td>\n",
       "      <td>1.000000</td>\n",
       "      <td>0.720934</td>\n",
       "      <td>0.025717</td>\n",
       "      <td>-0.145854</td>\n",
       "      <td>-0.188457</td>\n",
       "      <td>-0.179838</td>\n",
       "      <td>0.014767</td>\n",
       "    </tr>\n",
       "    <tr>\n",
       "      <th>total sulfur dioxide</th>\n",
       "      <td>-0.329054</td>\n",
       "      <td>-0.414476</td>\n",
       "      <td>0.195242</td>\n",
       "      <td>0.495482</td>\n",
       "      <td>-0.279630</td>\n",
       "      <td>0.720934</td>\n",
       "      <td>1.000000</td>\n",
       "      <td>0.032395</td>\n",
       "      <td>-0.238413</td>\n",
       "      <td>-0.275727</td>\n",
       "      <td>-0.265740</td>\n",
       "      <td>-0.051226</td>\n",
       "    </tr>\n",
       "    <tr>\n",
       "      <th>density</th>\n",
       "      <td>0.458910</td>\n",
       "      <td>0.271296</td>\n",
       "      <td>0.096154</td>\n",
       "      <td>0.552517</td>\n",
       "      <td>0.362615</td>\n",
       "      <td>0.025717</td>\n",
       "      <td>0.032395</td>\n",
       "      <td>1.000000</td>\n",
       "      <td>0.011686</td>\n",
       "      <td>0.259478</td>\n",
       "      <td>-0.686745</td>\n",
       "      <td>-0.275441</td>\n",
       "    </tr>\n",
       "    <tr>\n",
       "      <th>pH</th>\n",
       "      <td>-0.252700</td>\n",
       "      <td>0.261454</td>\n",
       "      <td>-0.329808</td>\n",
       "      <td>-0.267320</td>\n",
       "      <td>0.044708</td>\n",
       "      <td>-0.145854</td>\n",
       "      <td>-0.238413</td>\n",
       "      <td>0.011686</td>\n",
       "      <td>1.000000</td>\n",
       "      <td>0.192123</td>\n",
       "      <td>0.121248</td>\n",
       "      <td>0.028149</td>\n",
       "    </tr>\n",
       "    <tr>\n",
       "      <th>sulphates</th>\n",
       "      <td>0.299568</td>\n",
       "      <td>0.225984</td>\n",
       "      <td>0.056197</td>\n",
       "      <td>-0.185927</td>\n",
       "      <td>0.395593</td>\n",
       "      <td>-0.188457</td>\n",
       "      <td>-0.275727</td>\n",
       "      <td>0.259478</td>\n",
       "      <td>0.192123</td>\n",
       "      <td>1.000000</td>\n",
       "      <td>-0.003029</td>\n",
       "      <td>0.033971</td>\n",
       "    </tr>\n",
       "    <tr>\n",
       "      <th>alcohol</th>\n",
       "      <td>-0.095452</td>\n",
       "      <td>-0.037640</td>\n",
       "      <td>-0.010493</td>\n",
       "      <td>-0.359415</td>\n",
       "      <td>-0.256916</td>\n",
       "      <td>-0.179838</td>\n",
       "      <td>-0.265740</td>\n",
       "      <td>-0.686745</td>\n",
       "      <td>0.121248</td>\n",
       "      <td>-0.003029</td>\n",
       "      <td>1.000000</td>\n",
       "      <td>0.390486</td>\n",
       "    </tr>\n",
       "    <tr>\n",
       "      <th>quality</th>\n",
       "      <td>-0.049447</td>\n",
       "      <td>-0.151714</td>\n",
       "      <td>0.054444</td>\n",
       "      <td>-0.063992</td>\n",
       "      <td>-0.161781</td>\n",
       "      <td>0.014767</td>\n",
       "      <td>-0.051226</td>\n",
       "      <td>-0.275441</td>\n",
       "      <td>0.028149</td>\n",
       "      <td>0.033971</td>\n",
       "      <td>0.390486</td>\n",
       "      <td>1.000000</td>\n",
       "    </tr>\n",
       "  </tbody>\n",
       "</table>\n",
       "</div>"
      ],
      "text/plain": [
       "                      fixed acidity  volatile acidity  citric acid  \\\n",
       "fixed acidity              1.000000          0.219008     0.324436   \n",
       "volatile acidity           0.219008          1.000000    -0.377981   \n",
       "citric acid                0.324436         -0.377981     1.000000   \n",
       "residual sugar            -0.111981         -0.196011     0.142451   \n",
       "chlorides                  0.298195          0.377124     0.038998   \n",
       "free sulfur dioxide       -0.282735         -0.352557     0.133126   \n",
       "total sulfur dioxide      -0.329054         -0.414476     0.195242   \n",
       "density                    0.458910          0.271296     0.096154   \n",
       "pH                        -0.252700          0.261454    -0.329808   \n",
       "sulphates                  0.299568          0.225984     0.056197   \n",
       "alcohol                   -0.095452         -0.037640    -0.010493   \n",
       "quality                   -0.049447         -0.151714     0.054444   \n",
       "\n",
       "                      residual sugar  chlorides  free sulfur dioxide  \\\n",
       "fixed acidity              -0.111981   0.298195            -0.282735   \n",
       "volatile acidity           -0.196011   0.377124            -0.352557   \n",
       "citric acid                 0.142451   0.038998             0.133126   \n",
       "residual sugar              1.000000  -0.128940             0.402871   \n",
       "chlorides                  -0.128940   1.000000            -0.195045   \n",
       "free sulfur dioxide         0.402871  -0.195045             1.000000   \n",
       "total sulfur dioxide        0.495482  -0.279630             0.720934   \n",
       "density                     0.552517   0.362615             0.025717   \n",
       "pH                         -0.267320   0.044708            -0.145854   \n",
       "sulphates                  -0.185927   0.395593            -0.188457   \n",
       "alcohol                    -0.359415  -0.256916            -0.179838   \n",
       "quality                    -0.063992  -0.161781             0.014767   \n",
       "\n",
       "                      total sulfur dioxide   density        pH  sulphates  \\\n",
       "fixed acidity                    -0.329054  0.458910 -0.252700   0.299568   \n",
       "volatile acidity                 -0.414476  0.271296  0.261454   0.225984   \n",
       "citric acid                       0.195242  0.096154 -0.329808   0.056197   \n",
       "residual sugar                    0.495482  0.552517 -0.267320  -0.185927   \n",
       "chlorides                        -0.279630  0.362615  0.044708   0.395593   \n",
       "free sulfur dioxide               0.720934  0.025717 -0.145854  -0.188457   \n",
       "total sulfur dioxide              1.000000  0.032395 -0.238413  -0.275727   \n",
       "density                           0.032395  1.000000  0.011686   0.259478   \n",
       "pH                               -0.238413  0.011686  1.000000   0.192123   \n",
       "sulphates                        -0.275727  0.259478  0.192123   1.000000   \n",
       "alcohol                          -0.265740 -0.686745  0.121248  -0.003029   \n",
       "quality                          -0.051226 -0.275441  0.028149   0.033971   \n",
       "\n",
       "                       alcohol   quality  \n",
       "fixed acidity        -0.095452 -0.049447  \n",
       "volatile acidity     -0.037640 -0.151714  \n",
       "citric acid          -0.010493  0.054444  \n",
       "residual sugar       -0.359415 -0.063992  \n",
       "chlorides            -0.256916 -0.161781  \n",
       "free sulfur dioxide  -0.179838  0.014767  \n",
       "total sulfur dioxide -0.265740 -0.051226  \n",
       "density              -0.686745 -0.275441  \n",
       "pH                    0.121248  0.028149  \n",
       "sulphates            -0.003029  0.033971  \n",
       "alcohol               1.000000  0.390486  \n",
       "quality               0.390486  1.000000  "
      ]
     },
     "execution_count": 18,
     "metadata": {},
     "output_type": "execute_result"
    }
   ],
   "source": [
    "corr = df.corr()\n",
    "corr"
   ]
  },
  {
   "cell_type": "code",
   "execution_count": 19,
   "metadata": {},
   "outputs": [
    {
     "data": {
      "text/html": [
       "<style  type=\"text/css\" >\n",
       "    #T_daff0cae_f2f0_11e9_8961_3859f9ebb94drow0_col0 {\n",
       "            background-color:  #b40426;\n",
       "            color:  #f1f1f1;\n",
       "        }    #T_daff0cae_f2f0_11e9_8961_3859f9ebb94drow0_col1 {\n",
       "            background-color:  #cedaeb;\n",
       "            color:  #000000;\n",
       "        }    #T_daff0cae_f2f0_11e9_8961_3859f9ebb94drow0_col2 {\n",
       "            background-color:  #dfdbd9;\n",
       "            color:  #000000;\n",
       "        }    #T_daff0cae_f2f0_11e9_8961_3859f9ebb94drow0_col3 {\n",
       "            background-color:  #7597f6;\n",
       "            color:  #000000;\n",
       "        }    #T_daff0cae_f2f0_11e9_8961_3859f9ebb94drow0_col4 {\n",
       "            background-color:  #cfdaea;\n",
       "            color:  #000000;\n",
       "        }    #T_daff0cae_f2f0_11e9_8961_3859f9ebb94drow0_col5 {\n",
       "            background-color:  #4a63d3;\n",
       "            color:  #f1f1f1;\n",
       "        }    #T_daff0cae_f2f0_11e9_8961_3859f9ebb94drow0_col6 {\n",
       "            background-color:  #4c66d6;\n",
       "            color:  #000000;\n",
       "        }    #T_daff0cae_f2f0_11e9_8961_3859f9ebb94drow0_col7 {\n",
       "            background-color:  #f7b497;\n",
       "            color:  #000000;\n",
       "        }    #T_daff0cae_f2f0_11e9_8961_3859f9ebb94drow0_col8 {\n",
       "            background-color:  #4b64d5;\n",
       "            color:  #f1f1f1;\n",
       "        }    #T_daff0cae_f2f0_11e9_8961_3859f9ebb94drow0_col9 {\n",
       "            background-color:  #cfdaea;\n",
       "            color:  #000000;\n",
       "        }    #T_daff0cae_f2f0_11e9_8961_3859f9ebb94drow0_col10 {\n",
       "            background-color:  #afcafc;\n",
       "            color:  #000000;\n",
       "        }    #T_daff0cae_f2f0_11e9_8961_3859f9ebb94drow0_col11 {\n",
       "            background-color:  #7396f5;\n",
       "            color:  #000000;\n",
       "        }    #T_daff0cae_f2f0_11e9_8961_3859f9ebb94drow1_col0 {\n",
       "            background-color:  #c4d5f3;\n",
       "            color:  #000000;\n",
       "        }    #T_daff0cae_f2f0_11e9_8961_3859f9ebb94drow1_col1 {\n",
       "            background-color:  #b40426;\n",
       "            color:  #f1f1f1;\n",
       "        }    #T_daff0cae_f2f0_11e9_8961_3859f9ebb94drow1_col2 {\n",
       "            background-color:  #3b4cc0;\n",
       "            color:  #f1f1f1;\n",
       "        }    #T_daff0cae_f2f0_11e9_8961_3859f9ebb94drow1_col3 {\n",
       "            background-color:  #5f7fe8;\n",
       "            color:  #000000;\n",
       "        }    #T_daff0cae_f2f0_11e9_8961_3859f9ebb94drow1_col4 {\n",
       "            background-color:  #e0dbd8;\n",
       "            color:  #000000;\n",
       "        }    #T_daff0cae_f2f0_11e9_8961_3859f9ebb94drow1_col5 {\n",
       "            background-color:  #3b4cc0;\n",
       "            color:  #f1f1f1;\n",
       "        }    #T_daff0cae_f2f0_11e9_8961_3859f9ebb94drow1_col6 {\n",
       "            background-color:  #3b4cc0;\n",
       "            color:  #f1f1f1;\n",
       "        }    #T_daff0cae_f2f0_11e9_8961_3859f9ebb94drow1_col7 {\n",
       "            background-color:  #edd2c3;\n",
       "            color:  #000000;\n",
       "        }    #T_daff0cae_f2f0_11e9_8961_3859f9ebb94drow1_col8 {\n",
       "            background-color:  #cdd9ec;\n",
       "            color:  #000000;\n",
       "        }    #T_daff0cae_f2f0_11e9_8961_3859f9ebb94drow1_col9 {\n",
       "            background-color:  #bed2f6;\n",
       "            color:  #000000;\n",
       "        }    #T_daff0cae_f2f0_11e9_8961_3859f9ebb94drow1_col10 {\n",
       "            background-color:  #bbd1f8;\n",
       "            color:  #000000;\n",
       "        }    #T_daff0cae_f2f0_11e9_8961_3859f9ebb94drow1_col11 {\n",
       "            background-color:  #5875e1;\n",
       "            color:  #000000;\n",
       "        }    #T_daff0cae_f2f0_11e9_8961_3859f9ebb94drow2_col0 {\n",
       "            background-color:  #dadce0;\n",
       "            color:  #000000;\n",
       "        }    #T_daff0cae_f2f0_11e9_8961_3859f9ebb94drow2_col1 {\n",
       "            background-color:  #4257c9;\n",
       "            color:  #f1f1f1;\n",
       "        }    #T_daff0cae_f2f0_11e9_8961_3859f9ebb94drow2_col2 {\n",
       "            background-color:  #b40426;\n",
       "            color:  #f1f1f1;\n",
       "        }    #T_daff0cae_f2f0_11e9_8961_3859f9ebb94drow2_col3 {\n",
       "            background-color:  #b6cefa;\n",
       "            color:  #000000;\n",
       "        }    #T_daff0cae_f2f0_11e9_8961_3859f9ebb94drow2_col4 {\n",
       "            background-color:  #8caffe;\n",
       "            color:  #000000;\n",
       "        }    #T_daff0cae_f2f0_11e9_8961_3859f9ebb94drow2_col5 {\n",
       "            background-color:  #b2ccfb;\n",
       "            color:  #000000;\n",
       "        }    #T_daff0cae_f2f0_11e9_8961_3859f9ebb94drow2_col6 {\n",
       "            background-color:  #cad8ef;\n",
       "            color:  #000000;\n",
       "        }    #T_daff0cae_f2f0_11e9_8961_3859f9ebb94drow2_col7 {\n",
       "            background-color:  #d3dbe7;\n",
       "            color:  #000000;\n",
       "        }    #T_daff0cae_f2f0_11e9_8961_3859f9ebb94drow2_col8 {\n",
       "            background-color:  #3b4cc0;\n",
       "            color:  #f1f1f1;\n",
       "        }    #T_daff0cae_f2f0_11e9_8961_3859f9ebb94drow2_col9 {\n",
       "            background-color:  #90b2fe;\n",
       "            color:  #000000;\n",
       "        }    #T_daff0cae_f2f0_11e9_8961_3859f9ebb94drow2_col10 {\n",
       "            background-color:  #c0d4f5;\n",
       "            color:  #000000;\n",
       "        }    #T_daff0cae_f2f0_11e9_8961_3859f9ebb94drow2_col11 {\n",
       "            background-color:  #90b2fe;\n",
       "            color:  #000000;\n",
       "        }    #T_daff0cae_f2f0_11e9_8961_3859f9ebb94drow3_col0 {\n",
       "            background-color:  #6e90f2;\n",
       "            color:  #000000;\n",
       "        }    #T_daff0cae_f2f0_11e9_8961_3859f9ebb94drow3_col1 {\n",
       "            background-color:  #6b8df0;\n",
       "            color:  #000000;\n",
       "        }    #T_daff0cae_f2f0_11e9_8961_3859f9ebb94drow3_col2 {\n",
       "            background-color:  #b9d0f9;\n",
       "            color:  #000000;\n",
       "        }    #T_daff0cae_f2f0_11e9_8961_3859f9ebb94drow3_col3 {\n",
       "            background-color:  #b40426;\n",
       "            color:  #f1f1f1;\n",
       "        }    #T_daff0cae_f2f0_11e9_8961_3859f9ebb94drow3_col4 {\n",
       "            background-color:  #5f7fe8;\n",
       "            color:  #000000;\n",
       "        }    #T_daff0cae_f2f0_11e9_8961_3859f9ebb94drow3_col5 {\n",
       "            background-color:  #ead4c8;\n",
       "            color:  #000000;\n",
       "        }    #T_daff0cae_f2f0_11e9_8961_3859f9ebb94drow3_col6 {\n",
       "            background-color:  #f6bfa6;\n",
       "            color:  #000000;\n",
       "        }    #T_daff0cae_f2f0_11e9_8961_3859f9ebb94drow3_col7 {\n",
       "            background-color:  #f59f80;\n",
       "            color:  #000000;\n",
       "        }    #T_daff0cae_f2f0_11e9_8961_3859f9ebb94drow3_col8 {\n",
       "            background-color:  #4961d2;\n",
       "            color:  #f1f1f1;\n",
       "        }    #T_daff0cae_f2f0_11e9_8961_3859f9ebb94drow3_col9 {\n",
       "            background-color:  #506bda;\n",
       "            color:  #000000;\n",
       "        }    #T_daff0cae_f2f0_11e9_8961_3859f9ebb94drow3_col10 {\n",
       "            background-color:  #799cf8;\n",
       "            color:  #000000;\n",
       "        }    #T_daff0cae_f2f0_11e9_8961_3859f9ebb94drow3_col11 {\n",
       "            background-color:  #6f92f3;\n",
       "            color:  #000000;\n",
       "        }    #T_daff0cae_f2f0_11e9_8961_3859f9ebb94drow4_col0 {\n",
       "            background-color:  #d5dbe5;\n",
       "            color:  #000000;\n",
       "        }    #T_daff0cae_f2f0_11e9_8961_3859f9ebb94drow4_col1 {\n",
       "            background-color:  #ebd3c6;\n",
       "            color:  #000000;\n",
       "        }    #T_daff0cae_f2f0_11e9_8961_3859f9ebb94drow4_col2 {\n",
       "            background-color:  #9fbfff;\n",
       "            color:  #000000;\n",
       "        }    #T_daff0cae_f2f0_11e9_8961_3859f9ebb94drow4_col3 {\n",
       "            background-color:  #7093f3;\n",
       "            color:  #000000;\n",
       "        }    #T_daff0cae_f2f0_11e9_8961_3859f9ebb94drow4_col4 {\n",
       "            background-color:  #b40426;\n",
       "            color:  #f1f1f1;\n",
       "        }    #T_daff0cae_f2f0_11e9_8961_3859f9ebb94drow4_col5 {\n",
       "            background-color:  #5e7de7;\n",
       "            color:  #000000;\n",
       "        }    #T_daff0cae_f2f0_11e9_8961_3859f9ebb94drow4_col6 {\n",
       "            background-color:  #5875e1;\n",
       "            color:  #000000;\n",
       "        }    #T_daff0cae_f2f0_11e9_8961_3859f9ebb94drow4_col7 {\n",
       "            background-color:  #f4c5ad;\n",
       "            color:  #000000;\n",
       "        }    #T_daff0cae_f2f0_11e9_8961_3859f9ebb94drow4_col8 {\n",
       "            background-color:  #98b9ff;\n",
       "            color:  #000000;\n",
       "        }    #T_daff0cae_f2f0_11e9_8961_3859f9ebb94drow4_col9 {\n",
       "            background-color:  #e3d9d3;\n",
       "            color:  #000000;\n",
       "        }    #T_daff0cae_f2f0_11e9_8961_3859f9ebb94drow4_col10 {\n",
       "            background-color:  #8fb1fe;\n",
       "            color:  #000000;\n",
       "        }    #T_daff0cae_f2f0_11e9_8961_3859f9ebb94drow4_col11 {\n",
       "            background-color:  #5572df;\n",
       "            color:  #000000;\n",
       "        }    #T_daff0cae_f2f0_11e9_8961_3859f9ebb94drow5_col0 {\n",
       "            background-color:  #445acc;\n",
       "            color:  #f1f1f1;\n",
       "        }    #T_daff0cae_f2f0_11e9_8961_3859f9ebb94drow5_col1 {\n",
       "            background-color:  #485fd1;\n",
       "            color:  #f1f1f1;\n",
       "        }    #T_daff0cae_f2f0_11e9_8961_3859f9ebb94drow5_col2 {\n",
       "            background-color:  #b6cefa;\n",
       "            color:  #000000;\n",
       "        }    #T_daff0cae_f2f0_11e9_8961_3859f9ebb94drow5_col3 {\n",
       "            background-color:  #ebd3c6;\n",
       "            color:  #000000;\n",
       "        }    #T_daff0cae_f2f0_11e9_8961_3859f9ebb94drow5_col4 {\n",
       "            background-color:  #4e68d8;\n",
       "            color:  #000000;\n",
       "        }    #T_daff0cae_f2f0_11e9_8961_3859f9ebb94drow5_col5 {\n",
       "            background-color:  #b40426;\n",
       "            color:  #f1f1f1;\n",
       "        }    #T_daff0cae_f2f0_11e9_8961_3859f9ebb94drow5_col6 {\n",
       "            background-color:  #ed8366;\n",
       "            color:  #000000;\n",
       "        }    #T_daff0cae_f2f0_11e9_8961_3859f9ebb94drow5_col7 {\n",
       "            background-color:  #c7d7f0;\n",
       "            color:  #000000;\n",
       "        }    #T_daff0cae_f2f0_11e9_8961_3859f9ebb94drow5_col8 {\n",
       "            background-color:  #6687ed;\n",
       "            color:  #000000;\n",
       "        }    #T_daff0cae_f2f0_11e9_8961_3859f9ebb94drow5_col9 {\n",
       "            background-color:  #4f69d9;\n",
       "            color:  #000000;\n",
       "        }    #T_daff0cae_f2f0_11e9_8961_3859f9ebb94drow5_col10 {\n",
       "            background-color:  #9ebeff;\n",
       "            color:  #000000;\n",
       "        }    #T_daff0cae_f2f0_11e9_8961_3859f9ebb94drow5_col11 {\n",
       "            background-color:  #85a8fc;\n",
       "            color:  #000000;\n",
       "        }    #T_daff0cae_f2f0_11e9_8961_3859f9ebb94drow6_col0 {\n",
       "            background-color:  #3b4cc0;\n",
       "            color:  #f1f1f1;\n",
       "        }    #T_daff0cae_f2f0_11e9_8961_3859f9ebb94drow6_col1 {\n",
       "            background-color:  #3b4cc0;\n",
       "            color:  #f1f1f1;\n",
       "        }    #T_daff0cae_f2f0_11e9_8961_3859f9ebb94drow6_col2 {\n",
       "            background-color:  #c5d6f2;\n",
       "            color:  #000000;\n",
       "        }    #T_daff0cae_f2f0_11e9_8961_3859f9ebb94drow6_col3 {\n",
       "            background-color:  #f5c4ac;\n",
       "            color:  #000000;\n",
       "        }    #T_daff0cae_f2f0_11e9_8961_3859f9ebb94drow6_col4 {\n",
       "            background-color:  #3b4cc0;\n",
       "            color:  #f1f1f1;\n",
       "        }    #T_daff0cae_f2f0_11e9_8961_3859f9ebb94drow6_col5 {\n",
       "            background-color:  #ee8669;\n",
       "            color:  #000000;\n",
       "        }    #T_daff0cae_f2f0_11e9_8961_3859f9ebb94drow6_col6 {\n",
       "            background-color:  #b40426;\n",
       "            color:  #f1f1f1;\n",
       "        }    #T_daff0cae_f2f0_11e9_8961_3859f9ebb94drow6_col7 {\n",
       "            background-color:  #c9d7f0;\n",
       "            color:  #000000;\n",
       "        }    #T_daff0cae_f2f0_11e9_8961_3859f9ebb94drow6_col8 {\n",
       "            background-color:  #4f69d9;\n",
       "            color:  #000000;\n",
       "        }    #T_daff0cae_f2f0_11e9_8961_3859f9ebb94drow6_col9 {\n",
       "            background-color:  #3b4cc0;\n",
       "            color:  #f1f1f1;\n",
       "        }    #T_daff0cae_f2f0_11e9_8961_3859f9ebb94drow6_col10 {\n",
       "            background-color:  #8caffe;\n",
       "            color:  #000000;\n",
       "        }    #T_daff0cae_f2f0_11e9_8961_3859f9ebb94drow6_col11 {\n",
       "            background-color:  #7396f5;\n",
       "            color:  #000000;\n",
       "        }    #T_daff0cae_f2f0_11e9_8961_3859f9ebb94drow7_col0 {\n",
       "            background-color:  #f1cdba;\n",
       "            color:  #000000;\n",
       "        }    #T_daff0cae_f2f0_11e9_8961_3859f9ebb94drow7_col1 {\n",
       "            background-color:  #d9dce1;\n",
       "            color:  #000000;\n",
       "        }    #T_daff0cae_f2f0_11e9_8961_3859f9ebb94drow7_col2 {\n",
       "            background-color:  #aec9fc;\n",
       "            color:  #000000;\n",
       "        }    #T_daff0cae_f2f0_11e9_8961_3859f9ebb94drow7_col3 {\n",
       "            background-color:  #f7b79b;\n",
       "            color:  #000000;\n",
       "        }    #T_daff0cae_f2f0_11e9_8961_3859f9ebb94drow7_col4 {\n",
       "            background-color:  #dddcdc;\n",
       "            color:  #000000;\n",
       "        }    #T_daff0cae_f2f0_11e9_8961_3859f9ebb94drow7_col5 {\n",
       "            background-color:  #97b8ff;\n",
       "            color:  #000000;\n",
       "        }    #T_daff0cae_f2f0_11e9_8961_3859f9ebb94drow7_col6 {\n",
       "            background-color:  #a3c2fe;\n",
       "            color:  #000000;\n",
       "        }    #T_daff0cae_f2f0_11e9_8961_3859f9ebb94drow7_col7 {\n",
       "            background-color:  #b40426;\n",
       "            color:  #f1f1f1;\n",
       "        }    #T_daff0cae_f2f0_11e9_8961_3859f9ebb94drow7_col8 {\n",
       "            background-color:  #8fb1fe;\n",
       "            color:  #000000;\n",
       "        }    #T_daff0cae_f2f0_11e9_8961_3859f9ebb94drow7_col9 {\n",
       "            background-color:  #c6d6f1;\n",
       "            color:  #000000;\n",
       "        }    #T_daff0cae_f2f0_11e9_8961_3859f9ebb94drow7_col10 {\n",
       "            background-color:  #3b4cc0;\n",
       "            color:  #f1f1f1;\n",
       "        }    #T_daff0cae_f2f0_11e9_8961_3859f9ebb94drow7_col11 {\n",
       "            background-color:  #3b4cc0;\n",
       "            color:  #f1f1f1;\n",
       "        }    #T_daff0cae_f2f0_11e9_8961_3859f9ebb94drow8_col0 {\n",
       "            background-color:  #4b64d5;\n",
       "            color:  #f1f1f1;\n",
       "        }    #T_daff0cae_f2f0_11e9_8961_3859f9ebb94drow8_col1 {\n",
       "            background-color:  #d7dce3;\n",
       "            color:  #000000;\n",
       "        }    #T_daff0cae_f2f0_11e9_8961_3859f9ebb94drow8_col2 {\n",
       "            background-color:  #445acc;\n",
       "            color:  #f1f1f1;\n",
       "        }    #T_daff0cae_f2f0_11e9_8961_3859f9ebb94drow8_col3 {\n",
       "            background-color:  #4f69d9;\n",
       "            color:  #000000;\n",
       "        }    #T_daff0cae_f2f0_11e9_8961_3859f9ebb94drow8_col4 {\n",
       "            background-color:  #8db0fe;\n",
       "            color:  #000000;\n",
       "        }    #T_daff0cae_f2f0_11e9_8961_3859f9ebb94drow8_col5 {\n",
       "            background-color:  #6b8df0;\n",
       "            color:  #000000;\n",
       "        }    #T_daff0cae_f2f0_11e9_8961_3859f9ebb94drow8_col6 {\n",
       "            background-color:  #6180e9;\n",
       "            color:  #000000;\n",
       "        }    #T_daff0cae_f2f0_11e9_8961_3859f9ebb94drow8_col7 {\n",
       "            background-color:  #c5d6f2;\n",
       "            color:  #000000;\n",
       "        }    #T_daff0cae_f2f0_11e9_8961_3859f9ebb94drow8_col8 {\n",
       "            background-color:  #b40426;\n",
       "            color:  #f1f1f1;\n",
       "        }    #T_daff0cae_f2f0_11e9_8961_3859f9ebb94drow8_col9 {\n",
       "            background-color:  #b5cdfa;\n",
       "            color:  #000000;\n",
       "        }    #T_daff0cae_f2f0_11e9_8961_3859f9ebb94drow8_col10 {\n",
       "            background-color:  #d7dce3;\n",
       "            color:  #000000;\n",
       "        }    #T_daff0cae_f2f0_11e9_8961_3859f9ebb94drow8_col11 {\n",
       "            background-color:  #88abfd;\n",
       "            color:  #000000;\n",
       "        }    #T_daff0cae_f2f0_11e9_8961_3859f9ebb94drow9_col0 {\n",
       "            background-color:  #d6dce4;\n",
       "            color:  #000000;\n",
       "        }    #T_daff0cae_f2f0_11e9_8961_3859f9ebb94drow9_col1 {\n",
       "            background-color:  #cfdaea;\n",
       "            color:  #000000;\n",
       "        }    #T_daff0cae_f2f0_11e9_8961_3859f9ebb94drow9_col2 {\n",
       "            background-color:  #a3c2fe;\n",
       "            color:  #000000;\n",
       "        }    #T_daff0cae_f2f0_11e9_8961_3859f9ebb94drow9_col3 {\n",
       "            background-color:  #6282ea;\n",
       "            color:  #000000;\n",
       "        }    #T_daff0cae_f2f0_11e9_8961_3859f9ebb94drow9_col4 {\n",
       "            background-color:  #e4d9d2;\n",
       "            color:  #000000;\n",
       "        }    #T_daff0cae_f2f0_11e9_8961_3859f9ebb94drow9_col5 {\n",
       "            background-color:  #6180e9;\n",
       "            color:  #000000;\n",
       "        }    #T_daff0cae_f2f0_11e9_8961_3859f9ebb94drow9_col6 {\n",
       "            background-color:  #5977e3;\n",
       "            color:  #000000;\n",
       "        }    #T_daff0cae_f2f0_11e9_8961_3859f9ebb94drow9_col7 {\n",
       "            background-color:  #ebd3c6;\n",
       "            color:  #000000;\n",
       "        }    #T_daff0cae_f2f0_11e9_8961_3859f9ebb94drow9_col8 {\n",
       "            background-color:  #bed2f6;\n",
       "            color:  #000000;\n",
       "        }    #T_daff0cae_f2f0_11e9_8961_3859f9ebb94drow9_col9 {\n",
       "            background-color:  #b40426;\n",
       "            color:  #f1f1f1;\n",
       "        }    #T_daff0cae_f2f0_11e9_8961_3859f9ebb94drow9_col10 {\n",
       "            background-color:  #c1d4f4;\n",
       "            color:  #000000;\n",
       "        }    #T_daff0cae_f2f0_11e9_8961_3859f9ebb94drow9_col11 {\n",
       "            background-color:  #8badfd;\n",
       "            color:  #000000;\n",
       "        }    #T_daff0cae_f2f0_11e9_8961_3859f9ebb94drow10_col0 {\n",
       "            background-color:  #7295f4;\n",
       "            color:  #000000;\n",
       "        }    #T_daff0cae_f2f0_11e9_8961_3859f9ebb94drow10_col1 {\n",
       "            background-color:  #93b5fe;\n",
       "            color:  #000000;\n",
       "        }    #T_daff0cae_f2f0_11e9_8961_3859f9ebb94drow10_col2 {\n",
       "            background-color:  #93b5fe;\n",
       "            color:  #000000;\n",
       "        }    #T_daff0cae_f2f0_11e9_8961_3859f9ebb94drow10_col3 {\n",
       "            background-color:  #3b4cc0;\n",
       "            color:  #f1f1f1;\n",
       "        }    #T_daff0cae_f2f0_11e9_8961_3859f9ebb94drow10_col4 {\n",
       "            background-color:  #3f53c6;\n",
       "            color:  #f1f1f1;\n",
       "        }    #T_daff0cae_f2f0_11e9_8961_3859f9ebb94drow10_col5 {\n",
       "            background-color:  #6282ea;\n",
       "            color:  #000000;\n",
       "        }    #T_daff0cae_f2f0_11e9_8961_3859f9ebb94drow10_col6 {\n",
       "            background-color:  #5a78e4;\n",
       "            color:  #000000;\n",
       "        }    #T_daff0cae_f2f0_11e9_8961_3859f9ebb94drow10_col7 {\n",
       "            background-color:  #3b4cc0;\n",
       "            color:  #f1f1f1;\n",
       "        }    #T_daff0cae_f2f0_11e9_8961_3859f9ebb94drow10_col8 {\n",
       "            background-color:  #abc8fd;\n",
       "            color:  #000000;\n",
       "        }    #T_daff0cae_f2f0_11e9_8961_3859f9ebb94drow10_col9 {\n",
       "            background-color:  #80a3fa;\n",
       "            color:  #000000;\n",
       "        }    #T_daff0cae_f2f0_11e9_8961_3859f9ebb94drow10_col10 {\n",
       "            background-color:  #b40426;\n",
       "            color:  #f1f1f1;\n",
       "        }    #T_daff0cae_f2f0_11e9_8961_3859f9ebb94drow10_col11 {\n",
       "            background-color:  #e2dad5;\n",
       "            color:  #000000;\n",
       "        }    #T_daff0cae_f2f0_11e9_8961_3859f9ebb94drow11_col0 {\n",
       "            background-color:  #7ea1fa;\n",
       "            color:  #000000;\n",
       "        }    #T_daff0cae_f2f0_11e9_8961_3859f9ebb94drow11_col1 {\n",
       "            background-color:  #7699f6;\n",
       "            color:  #000000;\n",
       "        }    #T_daff0cae_f2f0_11e9_8961_3859f9ebb94drow11_col2 {\n",
       "            background-color:  #a3c2fe;\n",
       "            color:  #000000;\n",
       "        }    #T_daff0cae_f2f0_11e9_8961_3859f9ebb94drow11_col3 {\n",
       "            background-color:  #81a4fb;\n",
       "            color:  #000000;\n",
       "        }    #T_daff0cae_f2f0_11e9_8961_3859f9ebb94drow11_col4 {\n",
       "            background-color:  #5673e0;\n",
       "            color:  #000000;\n",
       "        }    #T_daff0cae_f2f0_11e9_8961_3859f9ebb94drow11_col5 {\n",
       "            background-color:  #94b6ff;\n",
       "            color:  #000000;\n",
       "        }    #T_daff0cae_f2f0_11e9_8961_3859f9ebb94drow11_col6 {\n",
       "            background-color:  #8fb1fe;\n",
       "            color:  #000000;\n",
       "        }    #T_daff0cae_f2f0_11e9_8961_3859f9ebb94drow11_col7 {\n",
       "            background-color:  #8badfd;\n",
       "            color:  #000000;\n",
       "        }    #T_daff0cae_f2f0_11e9_8961_3859f9ebb94drow11_col8 {\n",
       "            background-color:  #93b5fe;\n",
       "            color:  #000000;\n",
       "        }    #T_daff0cae_f2f0_11e9_8961_3859f9ebb94drow11_col9 {\n",
       "            background-color:  #8badfd;\n",
       "            color:  #000000;\n",
       "        }    #T_daff0cae_f2f0_11e9_8961_3859f9ebb94drow11_col10 {\n",
       "            background-color:  #f5c0a7;\n",
       "            color:  #000000;\n",
       "        }    #T_daff0cae_f2f0_11e9_8961_3859f9ebb94drow11_col11 {\n",
       "            background-color:  #b40426;\n",
       "            color:  #f1f1f1;\n",
       "        }</style><table id=\"T_daff0cae_f2f0_11e9_8961_3859f9ebb94d\" ><thead>    <tr>        <th class=\"blank level0\" ></th>        <th class=\"col_heading level0 col0\" >fixed acidity</th>        <th class=\"col_heading level0 col1\" >volatile acidity</th>        <th class=\"col_heading level0 col2\" >citric acid</th>        <th class=\"col_heading level0 col3\" >residual sugar</th>        <th class=\"col_heading level0 col4\" >chlorides</th>        <th class=\"col_heading level0 col5\" >free sulfur dioxide</th>        <th class=\"col_heading level0 col6\" >total sulfur dioxide</th>        <th class=\"col_heading level0 col7\" >density</th>        <th class=\"col_heading level0 col8\" >pH</th>        <th class=\"col_heading level0 col9\" >sulphates</th>        <th class=\"col_heading level0 col10\" >alcohol</th>        <th class=\"col_heading level0 col11\" >quality</th>    </tr></thead><tbody>\n",
       "                <tr>\n",
       "                        <th id=\"T_daff0cae_f2f0_11e9_8961_3859f9ebb94dlevel0_row0\" class=\"row_heading level0 row0\" >fixed acidity</th>\n",
       "                        <td id=\"T_daff0cae_f2f0_11e9_8961_3859f9ebb94drow0_col0\" class=\"data row0 col0\" >1</td>\n",
       "                        <td id=\"T_daff0cae_f2f0_11e9_8961_3859f9ebb94drow0_col1\" class=\"data row0 col1\" >0.219008</td>\n",
       "                        <td id=\"T_daff0cae_f2f0_11e9_8961_3859f9ebb94drow0_col2\" class=\"data row0 col2\" >0.324436</td>\n",
       "                        <td id=\"T_daff0cae_f2f0_11e9_8961_3859f9ebb94drow0_col3\" class=\"data row0 col3\" >-0.111981</td>\n",
       "                        <td id=\"T_daff0cae_f2f0_11e9_8961_3859f9ebb94drow0_col4\" class=\"data row0 col4\" >0.298195</td>\n",
       "                        <td id=\"T_daff0cae_f2f0_11e9_8961_3859f9ebb94drow0_col5\" class=\"data row0 col5\" >-0.282735</td>\n",
       "                        <td id=\"T_daff0cae_f2f0_11e9_8961_3859f9ebb94drow0_col6\" class=\"data row0 col6\" >-0.329054</td>\n",
       "                        <td id=\"T_daff0cae_f2f0_11e9_8961_3859f9ebb94drow0_col7\" class=\"data row0 col7\" >0.45891</td>\n",
       "                        <td id=\"T_daff0cae_f2f0_11e9_8961_3859f9ebb94drow0_col8\" class=\"data row0 col8\" >-0.2527</td>\n",
       "                        <td id=\"T_daff0cae_f2f0_11e9_8961_3859f9ebb94drow0_col9\" class=\"data row0 col9\" >0.299568</td>\n",
       "                        <td id=\"T_daff0cae_f2f0_11e9_8961_3859f9ebb94drow0_col10\" class=\"data row0 col10\" >-0.0954515</td>\n",
       "                        <td id=\"T_daff0cae_f2f0_11e9_8961_3859f9ebb94drow0_col11\" class=\"data row0 col11\" >-0.0494473</td>\n",
       "            </tr>\n",
       "            <tr>\n",
       "                        <th id=\"T_daff0cae_f2f0_11e9_8961_3859f9ebb94dlevel0_row1\" class=\"row_heading level0 row1\" >volatile acidity</th>\n",
       "                        <td id=\"T_daff0cae_f2f0_11e9_8961_3859f9ebb94drow1_col0\" class=\"data row1 col0\" >0.219008</td>\n",
       "                        <td id=\"T_daff0cae_f2f0_11e9_8961_3859f9ebb94drow1_col1\" class=\"data row1 col1\" >1</td>\n",
       "                        <td id=\"T_daff0cae_f2f0_11e9_8961_3859f9ebb94drow1_col2\" class=\"data row1 col2\" >-0.377981</td>\n",
       "                        <td id=\"T_daff0cae_f2f0_11e9_8961_3859f9ebb94drow1_col3\" class=\"data row1 col3\" >-0.196011</td>\n",
       "                        <td id=\"T_daff0cae_f2f0_11e9_8961_3859f9ebb94drow1_col4\" class=\"data row1 col4\" >0.377124</td>\n",
       "                        <td id=\"T_daff0cae_f2f0_11e9_8961_3859f9ebb94drow1_col5\" class=\"data row1 col5\" >-0.352557</td>\n",
       "                        <td id=\"T_daff0cae_f2f0_11e9_8961_3859f9ebb94drow1_col6\" class=\"data row1 col6\" >-0.414476</td>\n",
       "                        <td id=\"T_daff0cae_f2f0_11e9_8961_3859f9ebb94drow1_col7\" class=\"data row1 col7\" >0.271296</td>\n",
       "                        <td id=\"T_daff0cae_f2f0_11e9_8961_3859f9ebb94drow1_col8\" class=\"data row1 col8\" >0.261454</td>\n",
       "                        <td id=\"T_daff0cae_f2f0_11e9_8961_3859f9ebb94drow1_col9\" class=\"data row1 col9\" >0.225984</td>\n",
       "                        <td id=\"T_daff0cae_f2f0_11e9_8961_3859f9ebb94drow1_col10\" class=\"data row1 col10\" >-0.0376404</td>\n",
       "                        <td id=\"T_daff0cae_f2f0_11e9_8961_3859f9ebb94drow1_col11\" class=\"data row1 col11\" >-0.151714</td>\n",
       "            </tr>\n",
       "            <tr>\n",
       "                        <th id=\"T_daff0cae_f2f0_11e9_8961_3859f9ebb94dlevel0_row2\" class=\"row_heading level0 row2\" >citric acid</th>\n",
       "                        <td id=\"T_daff0cae_f2f0_11e9_8961_3859f9ebb94drow2_col0\" class=\"data row2 col0\" >0.324436</td>\n",
       "                        <td id=\"T_daff0cae_f2f0_11e9_8961_3859f9ebb94drow2_col1\" class=\"data row2 col1\" >-0.377981</td>\n",
       "                        <td id=\"T_daff0cae_f2f0_11e9_8961_3859f9ebb94drow2_col2\" class=\"data row2 col2\" >1</td>\n",
       "                        <td id=\"T_daff0cae_f2f0_11e9_8961_3859f9ebb94drow2_col3\" class=\"data row2 col3\" >0.142451</td>\n",
       "                        <td id=\"T_daff0cae_f2f0_11e9_8961_3859f9ebb94drow2_col4\" class=\"data row2 col4\" >0.038998</td>\n",
       "                        <td id=\"T_daff0cae_f2f0_11e9_8961_3859f9ebb94drow2_col5\" class=\"data row2 col5\" >0.133126</td>\n",
       "                        <td id=\"T_daff0cae_f2f0_11e9_8961_3859f9ebb94drow2_col6\" class=\"data row2 col6\" >0.195242</td>\n",
       "                        <td id=\"T_daff0cae_f2f0_11e9_8961_3859f9ebb94drow2_col7\" class=\"data row2 col7\" >0.0961539</td>\n",
       "                        <td id=\"T_daff0cae_f2f0_11e9_8961_3859f9ebb94drow2_col8\" class=\"data row2 col8\" >-0.329808</td>\n",
       "                        <td id=\"T_daff0cae_f2f0_11e9_8961_3859f9ebb94drow2_col9\" class=\"data row2 col9\" >0.0561973</td>\n",
       "                        <td id=\"T_daff0cae_f2f0_11e9_8961_3859f9ebb94drow2_col10\" class=\"data row2 col10\" >-0.0104935</td>\n",
       "                        <td id=\"T_daff0cae_f2f0_11e9_8961_3859f9ebb94drow2_col11\" class=\"data row2 col11\" >0.0544445</td>\n",
       "            </tr>\n",
       "            <tr>\n",
       "                        <th id=\"T_daff0cae_f2f0_11e9_8961_3859f9ebb94dlevel0_row3\" class=\"row_heading level0 row3\" >residual sugar</th>\n",
       "                        <td id=\"T_daff0cae_f2f0_11e9_8961_3859f9ebb94drow3_col0\" class=\"data row3 col0\" >-0.111981</td>\n",
       "                        <td id=\"T_daff0cae_f2f0_11e9_8961_3859f9ebb94drow3_col1\" class=\"data row3 col1\" >-0.196011</td>\n",
       "                        <td id=\"T_daff0cae_f2f0_11e9_8961_3859f9ebb94drow3_col2\" class=\"data row3 col2\" >0.142451</td>\n",
       "                        <td id=\"T_daff0cae_f2f0_11e9_8961_3859f9ebb94drow3_col3\" class=\"data row3 col3\" >1</td>\n",
       "                        <td id=\"T_daff0cae_f2f0_11e9_8961_3859f9ebb94drow3_col4\" class=\"data row3 col4\" >-0.12894</td>\n",
       "                        <td id=\"T_daff0cae_f2f0_11e9_8961_3859f9ebb94drow3_col5\" class=\"data row3 col5\" >0.402871</td>\n",
       "                        <td id=\"T_daff0cae_f2f0_11e9_8961_3859f9ebb94drow3_col6\" class=\"data row3 col6\" >0.495482</td>\n",
       "                        <td id=\"T_daff0cae_f2f0_11e9_8961_3859f9ebb94drow3_col7\" class=\"data row3 col7\" >0.552517</td>\n",
       "                        <td id=\"T_daff0cae_f2f0_11e9_8961_3859f9ebb94drow3_col8\" class=\"data row3 col8\" >-0.26732</td>\n",
       "                        <td id=\"T_daff0cae_f2f0_11e9_8961_3859f9ebb94drow3_col9\" class=\"data row3 col9\" >-0.185927</td>\n",
       "                        <td id=\"T_daff0cae_f2f0_11e9_8961_3859f9ebb94drow3_col10\" class=\"data row3 col10\" >-0.359415</td>\n",
       "                        <td id=\"T_daff0cae_f2f0_11e9_8961_3859f9ebb94drow3_col11\" class=\"data row3 col11\" >-0.0639919</td>\n",
       "            </tr>\n",
       "            <tr>\n",
       "                        <th id=\"T_daff0cae_f2f0_11e9_8961_3859f9ebb94dlevel0_row4\" class=\"row_heading level0 row4\" >chlorides</th>\n",
       "                        <td id=\"T_daff0cae_f2f0_11e9_8961_3859f9ebb94drow4_col0\" class=\"data row4 col0\" >0.298195</td>\n",
       "                        <td id=\"T_daff0cae_f2f0_11e9_8961_3859f9ebb94drow4_col1\" class=\"data row4 col1\" >0.377124</td>\n",
       "                        <td id=\"T_daff0cae_f2f0_11e9_8961_3859f9ebb94drow4_col2\" class=\"data row4 col2\" >0.038998</td>\n",
       "                        <td id=\"T_daff0cae_f2f0_11e9_8961_3859f9ebb94drow4_col3\" class=\"data row4 col3\" >-0.12894</td>\n",
       "                        <td id=\"T_daff0cae_f2f0_11e9_8961_3859f9ebb94drow4_col4\" class=\"data row4 col4\" >1</td>\n",
       "                        <td id=\"T_daff0cae_f2f0_11e9_8961_3859f9ebb94drow4_col5\" class=\"data row4 col5\" >-0.195045</td>\n",
       "                        <td id=\"T_daff0cae_f2f0_11e9_8961_3859f9ebb94drow4_col6\" class=\"data row4 col6\" >-0.27963</td>\n",
       "                        <td id=\"T_daff0cae_f2f0_11e9_8961_3859f9ebb94drow4_col7\" class=\"data row4 col7\" >0.362615</td>\n",
       "                        <td id=\"T_daff0cae_f2f0_11e9_8961_3859f9ebb94drow4_col8\" class=\"data row4 col8\" >0.044708</td>\n",
       "                        <td id=\"T_daff0cae_f2f0_11e9_8961_3859f9ebb94drow4_col9\" class=\"data row4 col9\" >0.395593</td>\n",
       "                        <td id=\"T_daff0cae_f2f0_11e9_8961_3859f9ebb94drow4_col10\" class=\"data row4 col10\" >-0.256916</td>\n",
       "                        <td id=\"T_daff0cae_f2f0_11e9_8961_3859f9ebb94drow4_col11\" class=\"data row4 col11\" >-0.161781</td>\n",
       "            </tr>\n",
       "            <tr>\n",
       "                        <th id=\"T_daff0cae_f2f0_11e9_8961_3859f9ebb94dlevel0_row5\" class=\"row_heading level0 row5\" >free sulfur dioxide</th>\n",
       "                        <td id=\"T_daff0cae_f2f0_11e9_8961_3859f9ebb94drow5_col0\" class=\"data row5 col0\" >-0.282735</td>\n",
       "                        <td id=\"T_daff0cae_f2f0_11e9_8961_3859f9ebb94drow5_col1\" class=\"data row5 col1\" >-0.352557</td>\n",
       "                        <td id=\"T_daff0cae_f2f0_11e9_8961_3859f9ebb94drow5_col2\" class=\"data row5 col2\" >0.133126</td>\n",
       "                        <td id=\"T_daff0cae_f2f0_11e9_8961_3859f9ebb94drow5_col3\" class=\"data row5 col3\" >0.402871</td>\n",
       "                        <td id=\"T_daff0cae_f2f0_11e9_8961_3859f9ebb94drow5_col4\" class=\"data row5 col4\" >-0.195045</td>\n",
       "                        <td id=\"T_daff0cae_f2f0_11e9_8961_3859f9ebb94drow5_col5\" class=\"data row5 col5\" >1</td>\n",
       "                        <td id=\"T_daff0cae_f2f0_11e9_8961_3859f9ebb94drow5_col6\" class=\"data row5 col6\" >0.720934</td>\n",
       "                        <td id=\"T_daff0cae_f2f0_11e9_8961_3859f9ebb94drow5_col7\" class=\"data row5 col7\" >0.0257168</td>\n",
       "                        <td id=\"T_daff0cae_f2f0_11e9_8961_3859f9ebb94drow5_col8\" class=\"data row5 col8\" >-0.145854</td>\n",
       "                        <td id=\"T_daff0cae_f2f0_11e9_8961_3859f9ebb94drow5_col9\" class=\"data row5 col9\" >-0.188457</td>\n",
       "                        <td id=\"T_daff0cae_f2f0_11e9_8961_3859f9ebb94drow5_col10\" class=\"data row5 col10\" >-0.179838</td>\n",
       "                        <td id=\"T_daff0cae_f2f0_11e9_8961_3859f9ebb94drow5_col11\" class=\"data row5 col11\" >0.0147671</td>\n",
       "            </tr>\n",
       "            <tr>\n",
       "                        <th id=\"T_daff0cae_f2f0_11e9_8961_3859f9ebb94dlevel0_row6\" class=\"row_heading level0 row6\" >total sulfur dioxide</th>\n",
       "                        <td id=\"T_daff0cae_f2f0_11e9_8961_3859f9ebb94drow6_col0\" class=\"data row6 col0\" >-0.329054</td>\n",
       "                        <td id=\"T_daff0cae_f2f0_11e9_8961_3859f9ebb94drow6_col1\" class=\"data row6 col1\" >-0.414476</td>\n",
       "                        <td id=\"T_daff0cae_f2f0_11e9_8961_3859f9ebb94drow6_col2\" class=\"data row6 col2\" >0.195242</td>\n",
       "                        <td id=\"T_daff0cae_f2f0_11e9_8961_3859f9ebb94drow6_col3\" class=\"data row6 col3\" >0.495482</td>\n",
       "                        <td id=\"T_daff0cae_f2f0_11e9_8961_3859f9ebb94drow6_col4\" class=\"data row6 col4\" >-0.27963</td>\n",
       "                        <td id=\"T_daff0cae_f2f0_11e9_8961_3859f9ebb94drow6_col5\" class=\"data row6 col5\" >0.720934</td>\n",
       "                        <td id=\"T_daff0cae_f2f0_11e9_8961_3859f9ebb94drow6_col6\" class=\"data row6 col6\" >1</td>\n",
       "                        <td id=\"T_daff0cae_f2f0_11e9_8961_3859f9ebb94drow6_col7\" class=\"data row6 col7\" >0.0323945</td>\n",
       "                        <td id=\"T_daff0cae_f2f0_11e9_8961_3859f9ebb94drow6_col8\" class=\"data row6 col8\" >-0.238413</td>\n",
       "                        <td id=\"T_daff0cae_f2f0_11e9_8961_3859f9ebb94drow6_col9\" class=\"data row6 col9\" >-0.275727</td>\n",
       "                        <td id=\"T_daff0cae_f2f0_11e9_8961_3859f9ebb94drow6_col10\" class=\"data row6 col10\" >-0.26574</td>\n",
       "                        <td id=\"T_daff0cae_f2f0_11e9_8961_3859f9ebb94drow6_col11\" class=\"data row6 col11\" >-0.0512256</td>\n",
       "            </tr>\n",
       "            <tr>\n",
       "                        <th id=\"T_daff0cae_f2f0_11e9_8961_3859f9ebb94dlevel0_row7\" class=\"row_heading level0 row7\" >density</th>\n",
       "                        <td id=\"T_daff0cae_f2f0_11e9_8961_3859f9ebb94drow7_col0\" class=\"data row7 col0\" >0.45891</td>\n",
       "                        <td id=\"T_daff0cae_f2f0_11e9_8961_3859f9ebb94drow7_col1\" class=\"data row7 col1\" >0.271296</td>\n",
       "                        <td id=\"T_daff0cae_f2f0_11e9_8961_3859f9ebb94drow7_col2\" class=\"data row7 col2\" >0.0961539</td>\n",
       "                        <td id=\"T_daff0cae_f2f0_11e9_8961_3859f9ebb94drow7_col3\" class=\"data row7 col3\" >0.552517</td>\n",
       "                        <td id=\"T_daff0cae_f2f0_11e9_8961_3859f9ebb94drow7_col4\" class=\"data row7 col4\" >0.362615</td>\n",
       "                        <td id=\"T_daff0cae_f2f0_11e9_8961_3859f9ebb94drow7_col5\" class=\"data row7 col5\" >0.0257168</td>\n",
       "                        <td id=\"T_daff0cae_f2f0_11e9_8961_3859f9ebb94drow7_col6\" class=\"data row7 col6\" >0.0323945</td>\n",
       "                        <td id=\"T_daff0cae_f2f0_11e9_8961_3859f9ebb94drow7_col7\" class=\"data row7 col7\" >1</td>\n",
       "                        <td id=\"T_daff0cae_f2f0_11e9_8961_3859f9ebb94drow7_col8\" class=\"data row7 col8\" >0.0116861</td>\n",
       "                        <td id=\"T_daff0cae_f2f0_11e9_8961_3859f9ebb94drow7_col9\" class=\"data row7 col9\" >0.259478</td>\n",
       "                        <td id=\"T_daff0cae_f2f0_11e9_8961_3859f9ebb94drow7_col10\" class=\"data row7 col10\" >-0.686745</td>\n",
       "                        <td id=\"T_daff0cae_f2f0_11e9_8961_3859f9ebb94drow7_col11\" class=\"data row7 col11\" >-0.275441</td>\n",
       "            </tr>\n",
       "            <tr>\n",
       "                        <th id=\"T_daff0cae_f2f0_11e9_8961_3859f9ebb94dlevel0_row8\" class=\"row_heading level0 row8\" >pH</th>\n",
       "                        <td id=\"T_daff0cae_f2f0_11e9_8961_3859f9ebb94drow8_col0\" class=\"data row8 col0\" >-0.2527</td>\n",
       "                        <td id=\"T_daff0cae_f2f0_11e9_8961_3859f9ebb94drow8_col1\" class=\"data row8 col1\" >0.261454</td>\n",
       "                        <td id=\"T_daff0cae_f2f0_11e9_8961_3859f9ebb94drow8_col2\" class=\"data row8 col2\" >-0.329808</td>\n",
       "                        <td id=\"T_daff0cae_f2f0_11e9_8961_3859f9ebb94drow8_col3\" class=\"data row8 col3\" >-0.26732</td>\n",
       "                        <td id=\"T_daff0cae_f2f0_11e9_8961_3859f9ebb94drow8_col4\" class=\"data row8 col4\" >0.044708</td>\n",
       "                        <td id=\"T_daff0cae_f2f0_11e9_8961_3859f9ebb94drow8_col5\" class=\"data row8 col5\" >-0.145854</td>\n",
       "                        <td id=\"T_daff0cae_f2f0_11e9_8961_3859f9ebb94drow8_col6\" class=\"data row8 col6\" >-0.238413</td>\n",
       "                        <td id=\"T_daff0cae_f2f0_11e9_8961_3859f9ebb94drow8_col7\" class=\"data row8 col7\" >0.0116861</td>\n",
       "                        <td id=\"T_daff0cae_f2f0_11e9_8961_3859f9ebb94drow8_col8\" class=\"data row8 col8\" >1</td>\n",
       "                        <td id=\"T_daff0cae_f2f0_11e9_8961_3859f9ebb94drow8_col9\" class=\"data row8 col9\" >0.192123</td>\n",
       "                        <td id=\"T_daff0cae_f2f0_11e9_8961_3859f9ebb94drow8_col10\" class=\"data row8 col10\" >0.121248</td>\n",
       "                        <td id=\"T_daff0cae_f2f0_11e9_8961_3859f9ebb94drow8_col11\" class=\"data row8 col11\" >0.0281487</td>\n",
       "            </tr>\n",
       "            <tr>\n",
       "                        <th id=\"T_daff0cae_f2f0_11e9_8961_3859f9ebb94dlevel0_row9\" class=\"row_heading level0 row9\" >sulphates</th>\n",
       "                        <td id=\"T_daff0cae_f2f0_11e9_8961_3859f9ebb94drow9_col0\" class=\"data row9 col0\" >0.299568</td>\n",
       "                        <td id=\"T_daff0cae_f2f0_11e9_8961_3859f9ebb94drow9_col1\" class=\"data row9 col1\" >0.225984</td>\n",
       "                        <td id=\"T_daff0cae_f2f0_11e9_8961_3859f9ebb94drow9_col2\" class=\"data row9 col2\" >0.0561973</td>\n",
       "                        <td id=\"T_daff0cae_f2f0_11e9_8961_3859f9ebb94drow9_col3\" class=\"data row9 col3\" >-0.185927</td>\n",
       "                        <td id=\"T_daff0cae_f2f0_11e9_8961_3859f9ebb94drow9_col4\" class=\"data row9 col4\" >0.395593</td>\n",
       "                        <td id=\"T_daff0cae_f2f0_11e9_8961_3859f9ebb94drow9_col5\" class=\"data row9 col5\" >-0.188457</td>\n",
       "                        <td id=\"T_daff0cae_f2f0_11e9_8961_3859f9ebb94drow9_col6\" class=\"data row9 col6\" >-0.275727</td>\n",
       "                        <td id=\"T_daff0cae_f2f0_11e9_8961_3859f9ebb94drow9_col7\" class=\"data row9 col7\" >0.259478</td>\n",
       "                        <td id=\"T_daff0cae_f2f0_11e9_8961_3859f9ebb94drow9_col8\" class=\"data row9 col8\" >0.192123</td>\n",
       "                        <td id=\"T_daff0cae_f2f0_11e9_8961_3859f9ebb94drow9_col9\" class=\"data row9 col9\" >1</td>\n",
       "                        <td id=\"T_daff0cae_f2f0_11e9_8961_3859f9ebb94drow9_col10\" class=\"data row9 col10\" >-0.00302919</td>\n",
       "                        <td id=\"T_daff0cae_f2f0_11e9_8961_3859f9ebb94drow9_col11\" class=\"data row9 col11\" >0.0339709</td>\n",
       "            </tr>\n",
       "            <tr>\n",
       "                        <th id=\"T_daff0cae_f2f0_11e9_8961_3859f9ebb94dlevel0_row10\" class=\"row_heading level0 row10\" >alcohol</th>\n",
       "                        <td id=\"T_daff0cae_f2f0_11e9_8961_3859f9ebb94drow10_col0\" class=\"data row10 col0\" >-0.0954515</td>\n",
       "                        <td id=\"T_daff0cae_f2f0_11e9_8961_3859f9ebb94drow10_col1\" class=\"data row10 col1\" >-0.0376404</td>\n",
       "                        <td id=\"T_daff0cae_f2f0_11e9_8961_3859f9ebb94drow10_col2\" class=\"data row10 col2\" >-0.0104935</td>\n",
       "                        <td id=\"T_daff0cae_f2f0_11e9_8961_3859f9ebb94drow10_col3\" class=\"data row10 col3\" >-0.359415</td>\n",
       "                        <td id=\"T_daff0cae_f2f0_11e9_8961_3859f9ebb94drow10_col4\" class=\"data row10 col4\" >-0.256916</td>\n",
       "                        <td id=\"T_daff0cae_f2f0_11e9_8961_3859f9ebb94drow10_col5\" class=\"data row10 col5\" >-0.179838</td>\n",
       "                        <td id=\"T_daff0cae_f2f0_11e9_8961_3859f9ebb94drow10_col6\" class=\"data row10 col6\" >-0.26574</td>\n",
       "                        <td id=\"T_daff0cae_f2f0_11e9_8961_3859f9ebb94drow10_col7\" class=\"data row10 col7\" >-0.686745</td>\n",
       "                        <td id=\"T_daff0cae_f2f0_11e9_8961_3859f9ebb94drow10_col8\" class=\"data row10 col8\" >0.121248</td>\n",
       "                        <td id=\"T_daff0cae_f2f0_11e9_8961_3859f9ebb94drow10_col9\" class=\"data row10 col9\" >-0.00302919</td>\n",
       "                        <td id=\"T_daff0cae_f2f0_11e9_8961_3859f9ebb94drow10_col10\" class=\"data row10 col10\" >1</td>\n",
       "                        <td id=\"T_daff0cae_f2f0_11e9_8961_3859f9ebb94drow10_col11\" class=\"data row10 col11\" >0.390486</td>\n",
       "            </tr>\n",
       "            <tr>\n",
       "                        <th id=\"T_daff0cae_f2f0_11e9_8961_3859f9ebb94dlevel0_row11\" class=\"row_heading level0 row11\" >quality</th>\n",
       "                        <td id=\"T_daff0cae_f2f0_11e9_8961_3859f9ebb94drow11_col0\" class=\"data row11 col0\" >-0.0494473</td>\n",
       "                        <td id=\"T_daff0cae_f2f0_11e9_8961_3859f9ebb94drow11_col1\" class=\"data row11 col1\" >-0.151714</td>\n",
       "                        <td id=\"T_daff0cae_f2f0_11e9_8961_3859f9ebb94drow11_col2\" class=\"data row11 col2\" >0.0544445</td>\n",
       "                        <td id=\"T_daff0cae_f2f0_11e9_8961_3859f9ebb94drow11_col3\" class=\"data row11 col3\" >-0.0639919</td>\n",
       "                        <td id=\"T_daff0cae_f2f0_11e9_8961_3859f9ebb94drow11_col4\" class=\"data row11 col4\" >-0.161781</td>\n",
       "                        <td id=\"T_daff0cae_f2f0_11e9_8961_3859f9ebb94drow11_col5\" class=\"data row11 col5\" >0.0147671</td>\n",
       "                        <td id=\"T_daff0cae_f2f0_11e9_8961_3859f9ebb94drow11_col6\" class=\"data row11 col6\" >-0.0512256</td>\n",
       "                        <td id=\"T_daff0cae_f2f0_11e9_8961_3859f9ebb94drow11_col7\" class=\"data row11 col7\" >-0.275441</td>\n",
       "                        <td id=\"T_daff0cae_f2f0_11e9_8961_3859f9ebb94drow11_col8\" class=\"data row11 col8\" >0.0281487</td>\n",
       "                        <td id=\"T_daff0cae_f2f0_11e9_8961_3859f9ebb94drow11_col9\" class=\"data row11 col9\" >0.0339709</td>\n",
       "                        <td id=\"T_daff0cae_f2f0_11e9_8961_3859f9ebb94drow11_col10\" class=\"data row11 col10\" >0.390486</td>\n",
       "                        <td id=\"T_daff0cae_f2f0_11e9_8961_3859f9ebb94drow11_col11\" class=\"data row11 col11\" >1</td>\n",
       "            </tr>\n",
       "    </tbody></table>"
      ],
      "text/plain": [
       "<pandas.io.formats.style.Styler at 0x2ba354432b0>"
      ]
     },
     "execution_count": 19,
     "metadata": {},
     "output_type": "execute_result"
    }
   ],
   "source": [
    "corr.style.background_gradient(cmap='coolwarm')"
   ]
  },
  {
   "cell_type": "markdown",
   "metadata": {},
   "source": [
    "## Split Data into Train & Test"
   ]
  },
  {
   "cell_type": "code",
   "execution_count": 20,
   "metadata": {},
   "outputs": [],
   "source": [
    "x = df.iloc[:,:11]\n",
    "y = df['quality']\n",
    "\n",
    "# Splitting the dataset into the Training set and test set\n",
    "X_train, X_test, Y_train, Y_test = train_test_split(x, y, test_size= 0.2, random_state = 0)"
   ]
  },
  {
   "cell_type": "markdown",
   "metadata": {},
   "source": [
    "## Principal Component Analysis (PCA)"
   ]
  },
  {
   "cell_type": "code",
   "execution_count": 21,
   "metadata": {},
   "outputs": [
    {
     "name": "stdout",
     "output_type": "stream",
     "text": [
      "[0.2762593  0.22807418 0.14180055 0.08719236 0.06493054 0.05523937\n",
      " 0.04775093 0.04479159 0.0307376  0.02045191]\n",
      "\n",
      "\n",
      "[27.6 50.4 64.6 73.3 79.8 85.3 90.1 94.6 97.7 99.7]\n",
      "\n",
      "\n",
      "10\n"
     ]
    },
    {
     "data": {
      "image/png": "[encoded data removed]",
      "text/plain": [
       "<Figure size 432x288 with 1 Axes>"
      ]
     },
     "metadata": {
      "needs_background": "light"
     },
     "output_type": "display_data"
    }
   ],
   "source": [
    "# PCA for X_train\n",
    "pca = PCA(n_components='mle')\n",
    "features = X_train\n",
    "features = scale(features);features\n",
    "x_pca = pca.fit_transform(features)\n",
    "print (pca.explained_variance_ratio_)\n",
    "print ('\\n')\n",
    "sum_variance = np.cumsum(np.round(pca.explained_variance_ratio_, decimals=3)*100)\n",
    "print (sum_variance)\n",
    "# print (pca.explained_variance_)\n",
    "print ('\\n')\n",
    "print (pca.n_components_)\n",
    "\n",
    "plt.ylabel('% Variance Explained')\n",
    "plt.xlabel('Number of Features')\n",
    "plt.title('PCA Analysis')\n",
    "# plt.ylim(0,100.5)\n",
    "plt.plot(sum_variance)\n",
    "plt.show()"
   ]
  },
  {
   "cell_type": "code",
   "execution_count": 22,
   "metadata": {},
   "outputs": [
    {
     "data": {
      "text/html": [
       "<div>\n",
       "<style scoped>\n",
       "    .dataframe tbody tr th:only-of-type {\n",
       "        vertical-align: middle;\n",
       "    }\n",
       "\n",
       "    .dataframe tbody tr th {\n",
       "        vertical-align: top;\n",
       "    }\n",
       "\n",
       "    .dataframe thead th {\n",
       "        text-align: right;\n",
       "    }\n",
       "</style>\n",
       "<table border=\"1\" class=\"dataframe\">\n",
       "  <thead>\n",
       "    <tr style=\"text-align: right;\">\n",
       "      <th></th>\n",
       "      <th>PC1</th>\n",
       "      <th>PC2</th>\n",
       "      <th>PC3</th>\n",
       "      <th>PC4</th>\n",
       "      <th>PC5</th>\n",
       "      <th>PC6</th>\n",
       "    </tr>\n",
       "  </thead>\n",
       "  <tbody>\n",
       "    <tr>\n",
       "      <th>0</th>\n",
       "      <td>0.317931</td>\n",
       "      <td>-4.157317</td>\n",
       "      <td>-1.185857</td>\n",
       "      <td>-0.093366</td>\n",
       "      <td>1.047388</td>\n",
       "      <td>2.267533</td>\n",
       "    </tr>\n",
       "    <tr>\n",
       "      <th>1</th>\n",
       "      <td>3.081114</td>\n",
       "      <td>3.294269</td>\n",
       "      <td>-0.514747</td>\n",
       "      <td>-1.008700</td>\n",
       "      <td>-0.687698</td>\n",
       "      <td>0.604326</td>\n",
       "    </tr>\n",
       "    <tr>\n",
       "      <th>2</th>\n",
       "      <td>1.802944</td>\n",
       "      <td>1.288205</td>\n",
       "      <td>-1.849985</td>\n",
       "      <td>-0.660724</td>\n",
       "      <td>-0.865562</td>\n",
       "      <td>-0.490991</td>\n",
       "    </tr>\n",
       "    <tr>\n",
       "      <th>3</th>\n",
       "      <td>-2.932866</td>\n",
       "      <td>0.468815</td>\n",
       "      <td>-0.776246</td>\n",
       "      <td>-0.781699</td>\n",
       "      <td>0.078724</td>\n",
       "      <td>-0.033118</td>\n",
       "    </tr>\n",
       "    <tr>\n",
       "      <th>4</th>\n",
       "      <td>-1.771330</td>\n",
       "      <td>1.981051</td>\n",
       "      <td>0.127946</td>\n",
       "      <td>2.159492</td>\n",
       "      <td>-0.257892</td>\n",
       "      <td>0.821702</td>\n",
       "    </tr>\n",
       "  </tbody>\n",
       "</table>\n",
       "</div>"
      ],
      "text/plain": [
       "        PC1       PC2       PC3       PC4       PC5       PC6\n",
       "0  0.317931 -4.157317 -1.185857 -0.093366  1.047388  2.267533\n",
       "1  3.081114  3.294269 -0.514747 -1.008700 -0.687698  0.604326\n",
       "2  1.802944  1.288205 -1.849985 -0.660724 -0.865562 -0.490991\n",
       "3 -2.932866  0.468815 -0.776246 -0.781699  0.078724 -0.033118\n",
       "4 -1.771330  1.981051  0.127946  2.159492 -0.257892  0.821702"
      ]
     },
     "execution_count": 22,
     "metadata": {},
     "output_type": "execute_result"
    }
   ],
   "source": [
    "X_train1 = pd.DataFrame(x_pca[:,0:6], columns= (['PC1','PC2','PC3','PC4','PC5','PC6']))\n",
    "X_train1.head()"
   ]
  },
  {
   "cell_type": "code",
   "execution_count": 23,
   "metadata": {},
   "outputs": [
    {
     "name": "stdout",
     "output_type": "stream",
     "text": [
      "[0.27416219 0.22176018 0.14027666 0.09271475 0.06818947 0.0555269\n",
      " 0.04704696 0.04590822 0.02944128 0.02156961]\n",
      "\n",
      "\n",
      "[27.4 49.6 63.6 72.9 79.7 85.3 90.  94.6 97.5 99.7]\n",
      "\n",
      "\n",
      "10\n"
     ]
    },
    {
     "data": {
      "image/png": "[encoded data removed]",
      "text/plain": [
       "<Figure size 432x288 with 1 Axes>"
      ]
     },
     "metadata": {
      "needs_background": "light"
     },
     "output_type": "display_data"
    }
   ],
   "source": [
    "# PCA for X_test\n",
    "pca = PCA(n_components='mle')\n",
    "features = X_test\n",
    "features = scale(features);features\n",
    "x_pca1 = pca.fit_transform(features)\n",
    "print (pca.explained_variance_ratio_)\n",
    "print ('\\n')\n",
    "sum_variance = np.cumsum(np.round(pca.explained_variance_ratio_, decimals=3)*100)\n",
    "print (sum_variance)\n",
    "# print (pca.explained_variance_)\n",
    "print ('\\n')\n",
    "print (pca.n_components_)\n",
    "\n",
    "plt.ylabel('% Variance Explained')\n",
    "plt.xlabel('Number of Features')\n",
    "plt.title('PCA Analysis')\n",
    "# plt.ylim(0,100.5)\n",
    "plt.plot(sum_variance)\n",
    "plt.show()"
   ]
  },
  {
   "cell_type": "code",
   "execution_count": 24,
   "metadata": {},
   "outputs": [
    {
     "data": {
      "text/html": [
       "<div>\n",
       "<style scoped>\n",
       "    .dataframe tbody tr th:only-of-type {\n",
       "        vertical-align: middle;\n",
       "    }\n",
       "\n",
       "    .dataframe tbody tr th {\n",
       "        vertical-align: top;\n",
       "    }\n",
       "\n",
       "    .dataframe thead th {\n",
       "        text-align: right;\n",
       "    }\n",
       "</style>\n",
       "<table border=\"1\" class=\"dataframe\">\n",
       "  <thead>\n",
       "    <tr style=\"text-align: right;\">\n",
       "      <th></th>\n",
       "      <th>PC1</th>\n",
       "      <th>PC2</th>\n",
       "      <th>PC3</th>\n",
       "      <th>PC4</th>\n",
       "      <th>PC5</th>\n",
       "      <th>PC6</th>\n",
       "    </tr>\n",
       "  </thead>\n",
       "  <tbody>\n",
       "    <tr>\n",
       "      <th>0</th>\n",
       "      <td>-0.408662</td>\n",
       "      <td>-0.252627</td>\n",
       "      <td>-0.145556</td>\n",
       "      <td>-0.367470</td>\n",
       "      <td>-1.029286</td>\n",
       "      <td>-1.111860</td>\n",
       "    </tr>\n",
       "    <tr>\n",
       "      <th>1</th>\n",
       "      <td>-0.049191</td>\n",
       "      <td>-1.691666</td>\n",
       "      <td>-0.055510</td>\n",
       "      <td>0.377025</td>\n",
       "      <td>-0.316801</td>\n",
       "      <td>-0.430559</td>\n",
       "    </tr>\n",
       "    <tr>\n",
       "      <th>2</th>\n",
       "      <td>-1.836433</td>\n",
       "      <td>2.680112</td>\n",
       "      <td>-0.128317</td>\n",
       "      <td>1.406450</td>\n",
       "      <td>0.639383</td>\n",
       "      <td>-0.103232</td>\n",
       "    </tr>\n",
       "    <tr>\n",
       "      <th>3</th>\n",
       "      <td>0.808254</td>\n",
       "      <td>0.400527</td>\n",
       "      <td>-0.867933</td>\n",
       "      <td>-1.122869</td>\n",
       "      <td>-1.830089</td>\n",
       "      <td>0.804983</td>\n",
       "    </tr>\n",
       "    <tr>\n",
       "      <th>4</th>\n",
       "      <td>-0.278916</td>\n",
       "      <td>-1.401931</td>\n",
       "      <td>0.255355</td>\n",
       "      <td>0.339786</td>\n",
       "      <td>0.085031</td>\n",
       "      <td>-0.550522</td>\n",
       "    </tr>\n",
       "  </tbody>\n",
       "</table>\n",
       "</div>"
      ],
      "text/plain": [
       "        PC1       PC2       PC3       PC4       PC5       PC6\n",
       "0 -0.408662 -0.252627 -0.145556 -0.367470 -1.029286 -1.111860\n",
       "1 -0.049191 -1.691666 -0.055510  0.377025 -0.316801 -0.430559\n",
       "2 -1.836433  2.680112 -0.128317  1.406450  0.639383 -0.103232\n",
       "3  0.808254  0.400527 -0.867933 -1.122869 -1.830089  0.804983\n",
       "4 -0.278916 -1.401931  0.255355  0.339786  0.085031 -0.550522"
      ]
     },
     "execution_count": 24,
     "metadata": {},
     "output_type": "execute_result"
    }
   ],
   "source": [
    "X_test1 = pd.DataFrame(x_pca1[:,0:6], columns= (['PC1','PC2','PC3','PC4','PC5','PC6']))\n",
    "X_test1.head()"
   ]
  },
  {
   "cell_type": "markdown",
   "metadata": {},
   "source": [
    "# Logistic Regression"
   ]
  },
  {
   "cell_type": "code",
   "execution_count": 25,
   "metadata": {},
   "outputs": [
    {
     "name": "stderr",
     "output_type": "stream",
     "text": [
      "C:\\Users\\hp\\Anaconda3\\lib\\site-packages\\sklearn\\linear_model\\logistic.py:433: FutureWarning: Default solver will be changed to 'lbfgs' in 0.22. Specify a solver to silence this warning.\n",
      "  FutureWarning)\n"
     ]
    },
    {
     "name": "stdout",
     "output_type": "stream",
     "text": [
      "              precision    recall  f1-score   support\n",
      "\n",
      "           0       0.82      0.95      0.88      1047\n",
      "           1       0.43      0.17      0.24       253\n",
      "\n",
      "   micro avg       0.79      0.79      0.79      1300\n",
      "   macro avg       0.63      0.56      0.56      1300\n",
      "weighted avg       0.75      0.79      0.76      1300\n",
      "\n",
      "[[990  57]\n",
      " [210  43]]\n",
      "accuracy is 0.7946153846153846\n"
     ]
    }
   ],
   "source": [
    "from sklearn.linear_model import LogisticRegression\n",
    "classifier = LogisticRegression()\n",
    "classifier.fit(X_train1, Y_train)\n",
    "\n",
    "Y_pred = classifier.predict(X_test1)\n",
    "\n",
    "# Summary of the predictions made by the classifier\n",
    "print(classification_report(Y_test, Y_pred))\n",
    "print(confusion_matrix(Y_test, Y_pred))\n",
    "\n",
    "#Accuracy score\n",
    "from sklearn.metrics import accuracy_score\n",
    "print('accuracy is', accuracy_score(Y_pred, Y_test))"
   ]
  },
  {
   "cell_type": "markdown",
   "metadata": {},
   "source": [
    "# Decision Tree"
   ]
  },
  {
   "cell_type": "code",
   "execution_count": 26,
   "metadata": {},
   "outputs": [],
   "source": [
    "from sklearn.tree import DecisionTreeClassifier "
   ]
  },
  {
   "cell_type": "code",
   "execution_count": 27,
   "metadata": {},
   "outputs": [
    {
     "name": "stderr",
     "output_type": "stream",
     "text": [
      "C:\\Users\\hp\\Anaconda3\\lib\\site-packages\\sklearn\\tree\\tree.py:283: DeprecationWarning: The min_impurity_split parameter is deprecated. Its default value will change from 1e-7 to 0 in version 0.23, and it will be removed in 0.25. Use the min_impurity_decrease parameter instead.\n",
      "  DeprecationWarning)\n"
     ]
    },
    {
     "name": "stdout",
     "output_type": "stream",
     "text": [
      "              precision    recall  f1-score   support\n",
      "\n",
      "           0       0.92      0.89      0.90      1047\n",
      "           1       0.59      0.68      0.63       253\n",
      "\n",
      "   micro avg       0.85      0.85      0.85      1300\n",
      "   macro avg       0.76      0.78      0.77      1300\n",
      "weighted avg       0.86      0.85      0.85      1300\n",
      "\n",
      "[[930 117]\n",
      " [ 82 171]]\n",
      "accuracy is 0.8469230769230769\n"
     ]
    }
   ],
   "source": [
    "## Decision Tree\n",
    "classifier = DecisionTreeClassifier(class_weight=None, criterion='gini', max_depth=None,\n",
    "                                   max_features=None, max_leaf_nodes=None,\n",
    "                                   min_impurity_split=1e-07, min_samples_leaf=1,\n",
    "                                   min_samples_split=2, random_state=None, splitter='best')\n",
    "classifier.fit(X_train, Y_train)\n",
    "Y_pred = classifier.predict(X_test)\n",
    "\n",
    "# Summary of the predictions made by the classifier\n",
    "print(classification_report(Y_test, Y_pred))\n",
    "print(confusion_matrix(Y_test, Y_pred))\n",
    "\n",
    "#Accuracy score\n",
    "from sklearn.metrics import accuracy_score\n",
    "print('accuracy is', accuracy_score(Y_pred, Y_test))"
   ]
  },
  {
   "cell_type": "markdown",
   "metadata": {},
   "source": [
    "# Random Froest"
   ]
  },
  {
   "cell_type": "code",
   "execution_count": 28,
   "metadata": {},
   "outputs": [],
   "source": [
    "from sklearn.ensemble import RandomForestClassifier"
   ]
  },
  {
   "cell_type": "code",
   "execution_count": 29,
   "metadata": {},
   "outputs": [
    {
     "name": "stdout",
     "output_type": "stream",
     "text": [
      "              precision    recall  f1-score   support\n",
      "\n",
      "           0       0.90      0.96      0.93      1047\n",
      "           1       0.78      0.57      0.66       253\n",
      "\n",
      "   micro avg       0.89      0.89      0.89      1300\n",
      "   macro avg       0.84      0.77      0.80      1300\n",
      "weighted avg       0.88      0.89      0.88      1300\n",
      "\n",
      "[[1007   40]\n",
      " [ 109  144]]\n",
      "accuracy is 0.8853846153846154\n"
     ]
    },
    {
     "name": "stderr",
     "output_type": "stream",
     "text": [
      "C:\\Users\\hp\\Anaconda3\\lib\\site-packages\\sklearn\\ensemble\\forest.py:246: FutureWarning: The default value of n_estimators will change from 10 in version 0.20 to 100 in 0.22.\n",
      "  \"10 in version 0.20 to 100 in 0.22.\", FutureWarning)\n"
     ]
    }
   ],
   "source": [
    "classifier = RandomForestClassifier()\n",
    "classifier.fit(X_train, Y_train)\n",
    "Y_pred = classifier.predict(X_test)\n",
    "\n",
    "# Summary of the predictions made by the classifier\n",
    "print(classification_report(Y_test, Y_pred))\n",
    "print(confusion_matrix(Y_test, Y_pred))\n",
    "\n",
    "#Accuracy score\n",
    "from sklearn.metrics import accuracy_score\n",
    "print('accuracy is', accuracy_score(Y_pred, Y_test))"
   ]
  },
  {
   "cell_type": "markdown",
   "metadata": {},
   "source": [
    "# K Nearest Neighbour (KNN)"
   ]
  },
  {
   "cell_type": "code",
   "execution_count": 30,
   "metadata": {},
   "outputs": [],
   "source": [
    "from sklearn.neighbors import KNeighborsClassifier\n",
    "from sklearn.model_selection import cross_val_score"
   ]
  },
  {
   "cell_type": "code",
   "execution_count": 31,
   "metadata": {},
   "outputs": [],
   "source": [
    "# Instantiate Learning Model (k=80)\n",
    "classifier = KNeighborsClassifier(n_neighbors=80)\n",
    "\n",
    "# Fitting the model\n",
    "classifier.fit(X_train, Y_train)\n",
    "\n",
    "# Predicting the Test set results\n",
    "Y_pred = classifier.predict(X_test)"
   ]
  },
  {
   "cell_type": "code",
   "execution_count": 32,
   "metadata": {},
   "outputs": [
    {
     "data": {
      "text/plain": [
       "array([[1047,    0],\n",
       "       [ 253,    0]], dtype=int64)"
      ]
     },
     "execution_count": 32,
     "metadata": {},
     "output_type": "execute_result"
    }
   ],
   "source": [
    "cm = confusion_matrix(Y_test, Y_pred)\n",
    "cm"
   ]
  },
  {
   "cell_type": "code",
   "execution_count": 33,
   "metadata": {},
   "outputs": [
    {
     "name": "stdout",
     "output_type": "stream",
     "text": [
      "Accuracy of our model is equal: 80.54%\n"
     ]
    }
   ],
   "source": [
    "accuracy = accuracy_score(Y_test, Y_pred)* 100\n",
    "print('Accuracy of our model is equal: ' + str(round(accuracy, 2)) + '%')"
   ]
  },
  {
   "cell_type": "code",
   "execution_count": 34,
   "metadata": {},
   "outputs": [],
   "source": [
    "error_rate = []\n",
    "\n",
    "# K\n",
    "for i in range(1,100):\n",
    "    knn = KNeighborsClassifier(n_neighbors=i)\n",
    "    knn.fit(X_train, Y_train)\n",
    "    pred_i = knn.predict(X_test)\n",
    "    error_rate.append(np.mean(pred_i != Y_test))"
   ]
  },
  {
   "cell_type": "code",
   "execution_count": 35,
   "metadata": {},
   "outputs": [
    {
     "data": {
      "text/plain": [
       "Text(0, 0.5, 'Error rate')"
      ]
     },
     "execution_count": 35,
     "metadata": {},
     "output_type": "execute_result"
    },
    {
     "data": {
      "text/plain": [
       "<Figure size 432x288 with 0 Axes>"
      ]
     },
     "metadata": {},
     "output_type": "display_data"
    },
    {
     "data": {
      "image/png": "[encoded data removed]",
      "text/plain": [
       "<Figure size 1080x1440 with 1 Axes>"
      ]
     },
     "metadata": {
      "needs_background": "light"
     },
     "output_type": "display_data"
    }
   ],
   "source": [
    "import matplotlib.pyplot as plt\n",
    "plt.figure()\n",
    "plt.figure(figsize=(15,20))\n",
    "plt.plot(range(1,100), error_rate, color='blue', linestyle='dashed',marker='o', markerfacecolor='red',markersize=10)\n",
    "plt.title('Error_rate vs k-value')\n",
    "plt.xlabel('k')\n",
    "plt.ylabel('Error rate')"
   ]
  },
  {
   "cell_type": "markdown",
   "metadata": {},
   "source": [
    "# XGBoosting"
   ]
  },
  {
   "cell_type": "code",
   "execution_count": 38,
   "metadata": {},
   "outputs": [],
   "source": [
    "from xgboost import XGBClassifier"
   ]
  },
  {
   "cell_type": "code",
   "execution_count": 41,
   "metadata": {},
   "outputs": [
    {
     "name": "stdout",
     "output_type": "stream",
     "text": [
      "[[987  60]\n",
      " [144 109]]\n",
      "Accuracy: 84.31%\n"
     ]
    }
   ],
   "source": [
    "# fit model on training data\n",
    "model = XGBClassifier()\n",
    "model.fit(X_train, Y_train)\n",
    "\n",
    "# make predictions for test data\n",
    "y_pred = model.predict(X_test)\n",
    "predictions = [round(value) for value in y_pred]\n",
    "\n",
    "# Confusion Matrix\n",
    "print(confusion_matrix(Y_test, y_pred))\n",
    "\n",
    "#Accuracy\n",
    "accuracy = accuracy_score(Y_test, predictions)\n",
    "print(\"Accuracy: %.2f%%\" % (accuracy * 100.0))"
   ]
  },
  {
   "cell_type": "markdown",
   "metadata": {},
   "source": [
    "# SVM "
   ]
  },
  {
   "cell_type": "code",
   "execution_count": 36,
   "metadata": {},
   "outputs": [
    {
     "name": "stderr",
     "output_type": "stream",
     "text": [
      "C:\\Users\\hp\\Anaconda3\\lib\\site-packages\\sklearn\\svm\\base.py:196: FutureWarning: The default value of gamma will change from 'auto' to 'scale' in version 0.22 to account better for unscaled features. Set gamma explicitly to 'auto' or 'scale' to avoid this warning.\n",
      "  \"avoid this warning.\", FutureWarning)\n"
     ]
    },
    {
     "name": "stdout",
     "output_type": "stream",
     "text": [
      "[[1009   38]\n",
      " [ 166   87]]\n",
      "accuracy is 0.8430769230769231\n"
     ]
    }
   ],
   "source": [
    "from sklearn.svm import SVC\n",
    "\n",
    "#Create a svm Classifier\n",
    "classifier= SVC()\n",
    "\n",
    "#Train the model using the training sets\n",
    "classifier.fit(X_train, Y_train)\n",
    "\n",
    "#Predict the response for test dataset\n",
    "Y_pred = classifier.predict(X_test)\n",
    "\n",
    "# Confusion Matrix\n",
    "print(confusion_matrix(Y_test, Y_pred))\n",
    "\n",
    "#Accuracy score\n",
    "from sklearn.metrics import accuracy_score\n",
    "print('accuracy is', accuracy_score(Y_pred, Y_test))"
   ]
  },
  {
   "cell_type": "markdown",
   "metadata": {},
   "source": [
    "# Naive Bias"
   ]
  },
  {
   "cell_type": "code",
   "execution_count": 37,
   "metadata": {},
   "outputs": [
    {
     "name": "stdout",
     "output_type": "stream",
     "text": [
      "[[836 211]\n",
      " [ 91 162]]\n",
      "accuracy is 0.7676923076923077\n"
     ]
    }
   ],
   "source": [
    "from sklearn.naive_bayes import GaussianNB\n",
    "classifier = GaussianNB()\n",
    "\n",
    "#Train the model using the training sets\n",
    "classifier.fit(X_train, Y_train)\n",
    "\n",
    "#Predict the response for test dataset\n",
    "Y_pred = classifier.predict(X_test)\n",
    "\n",
    "# Confusion Matrix\n",
    "print(confusion_matrix(Y_test, Y_pred))\n",
    "\n",
    "#Accuracy score\n",
    "from sklearn.metrics import accuracy_score\n",
    "print('accuracy is', accuracy_score(Y_pred, Y_test))"
   ]
  }
 ],
 "metadata": {
  "kernelspec": {
   "display_name": "Python 3",
   "language": "python",
   "name": "python3"
  },
  "language_info": {
   "codemirror_mode": {
    "name": "ipython",
    "version": 3
   },
   "file_extension": ".py",
   "mimetype": "text/x-python",
   "name": "python",
   "nbconvert_exporter": "python",
   "pygments_lexer": "ipython3",
   "version": "3.7.3"
  },
  "toc": {
   "base_numbering": 1,
   "nav_menu": {},
   "number_sections": true,
   "sideBar": true,
   "skip_h1_title": false,
   "title_cell": "Table of Contents",
   "title_sidebar": "Contents",
   "toc_cell": false,
   "toc_position": {},
   "toc_section_display": true,
   "toc_window_display": false
  },
  "varInspector": {
   "cols": {
    "lenName": 16,
    "lenType": 16,
    "lenVar": 40
   },
   "kernels_config": {
    "python": {
     "delete_cmd_postfix": "",
     "delete_cmd_prefix": "del ",
     "library": "var_list.py",
     "varRefreshCmd": "print(var_dic_list())"
    },
    "r": {
     "delete_cmd_postfix": ") ",
     "delete_cmd_prefix": "rm(",
     "library": "var_list.r",
     "varRefreshCmd": "cat(var_dic_list()) "
    }
   },
   "types_to_exclude": [
    "module",
    "function",
    "builtin_function_or_method",
    "instance",
    "_Feature"
   ],
   "window_display": false
  }
 },
 "nbformat": 4,
 "nbformat_minor": 2
}
